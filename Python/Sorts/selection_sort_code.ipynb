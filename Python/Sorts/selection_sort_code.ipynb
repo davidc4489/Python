{
 "cells": [
  {
   "cell_type": "code",
   "execution_count": null,
   "metadata": {},
   "outputs": [],
   "source": [
    "# Selection sort in Python\n",
    "\n",
    "\n",
    "def selectionSort(array, size):\n",
    "   \n",
    "    for step in range(size):\n",
    "        min_idx = step\n",
    "\n",
    "        for i in range(step + 1, size):\n",
    "         \n",
    "            # to sort in descending order, change > to < in this line\n",
    "            # select the minimum element in each loop\n",
    "            if array[i] < array[min_idx]:\n",
    "                min_idx = i\n",
    "         \n",
    "        # put min at the correct position\n",
    "        (array[step], array[min_idx]) = (array[min_idx], array[step])\n",
    "\n",
    "\n",
    "data = [-2, 45, 0, 11, -9]\n",
    "size = len(data)\n",
    "selectionSort(data, size)\n",
    "print('Sorted Array in Ascending Order:')\n",
    "print(data)"
   ]
  }
 ],
 "metadata": {
  "language_info": {
   "name": "python"
  },
  "orig_nbformat": 4
 },
 "nbformat": 4,
 "nbformat_minor": 2
}
