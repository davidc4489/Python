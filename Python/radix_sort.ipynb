{
 "cells": [
  {
   "cell_type": "code",
   "execution_count": 12,
   "metadata": {},
   "outputs": [
    {
     "data": {
      "text/plain": [
       "[4, 5, 6, 6, 6, 7, 7, 7, 8, 8, 8, 9, 21, 73]"
      ]
     },
     "execution_count": 12,
     "metadata": {},
     "output_type": "execute_result"
    }
   ],
   "source": [
    "\"\"\" def radix_sort(arr):\n",
    "    dig = digits(arr)\n",
    "\n",
    "    for i in range(dig):\n",
    "        \n",
    "    return digits(arr) \"\"\"\n",
    "\n",
    "def max(arr):    \n",
    "    max = arr[0]\n",
    "    for i in range(1,len(arr)):\n",
    "        if arr[i]> max:\n",
    "            max = arr[i]\n",
    "    return max\n",
    "\n",
    "def digits(arr):\n",
    "    number = max(arr)\n",
    "    count = 0\n",
    "    while number > 0:\n",
    "        number=number//10\n",
    "        count+=1\n",
    "    return count\n",
    "\n",
    "def counting_sort(arr, k):\n",
    "    C = [0] * k\n",
    "    B = [0] * len(arr)\n",
    "    for i in range(len(C)):\n",
    "        C[i]=0\n",
    "    for i in range(len(B)):\n",
    "        B[i]=0\n",
    "\n",
    "\n",
    "    for i in range(len(arr)):\n",
    "        C[arr[i]]=C[arr[i]]+1\n",
    "    \n",
    "    for i in range(k):\n",
    "        C[i]=C[i]+C[i-1]\n",
    "\n",
    "    j = len(arr)-1\n",
    "    while j >= 0:\n",
    "        B[C[arr[j]]-1] = arr[j]\n",
    "        C[arr[j]] = C[arr[j]]-1\n",
    "        j-=1\n",
    "\n",
    "    return B\n",
    "\n",
    "\n",
    "\n",
    "\n",
    "a = [9,8,7,6,21,4,6,73,7,8,6,7,5,8]\n",
    "counting_sort(a,75)\n"
   ]
  }
 ],
 "metadata": {
  "kernelspec": {
   "display_name": "Python 3",
   "language": "python",
   "name": "python3"
  },
  "language_info": {
   "codemirror_mode": {
    "name": "ipython",
    "version": 3
   },
   "file_extension": ".py",
   "mimetype": "text/x-python",
   "name": "python",
   "nbconvert_exporter": "python",
   "pygments_lexer": "ipython3",
   "version": "3.10.6"
  },
  "orig_nbformat": 4
 },
 "nbformat": 4,
 "nbformat_minor": 2
}
