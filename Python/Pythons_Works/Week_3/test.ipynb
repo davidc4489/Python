{
 "cells": [
  {
   "cell_type": "code",
   "execution_count": 35,
   "metadata": {},
   "outputs": [
    {
     "name": "stdout",
     "output_type": "stream",
     "text": [
      "(-90, [32, -122])\n"
     ]
    }
   ],
   "source": [
    "import numpy as np\n",
    "import queue\n",
    "\n",
    "def find_subarray(arr,k):\n",
    "    if k == len(arr):\n",
    "          return arr\n",
    "    \n",
    "    queue = []\n",
    "    min = 0\n",
    "\n",
    "    for i in range(0,k):\n",
    "        queue.append(arr[i])\n",
    "    min = sum(queue)\n",
    "    \n",
    "    minhelp = min\n",
    "    \n",
    "    for i in range(k,len(arr)):\n",
    "         minhelp -= queue[0]\n",
    "         queue.pop(0)\n",
    "         queue.append(arr[i])\n",
    "         minhelp += arr[i]\n",
    "         if minhelp < min:\n",
    "              min = minhelp\n",
    "              index = i\n",
    "              \n",
    "    minarray = []\n",
    "    for i in range(index-(k-1),index+1):\n",
    "        minarray.append(arr[i])\n",
    "    return min, minarray\n",
    "\n",
    "arr =  [34,2,-45,76,32,-122,56,89,32]\n",
    "print(find_subarray(arr,2))"
   ]
  }
 ],
 "metadata": {
  "kernelspec": {
   "display_name": "Python 3",
   "language": "python",
   "name": "python3"
  },
  "language_info": {
   "name": "python",
   "version": "3.10.6"
  },
  "orig_nbformat": 4
 },
 "nbformat": 4,
 "nbformat_minor": 2
}
