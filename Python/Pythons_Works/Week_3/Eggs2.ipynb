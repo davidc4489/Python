{
 "cells": [
  {
   "cell_type": "code",
   "execution_count": 74,
   "metadata": {},
   "outputs": [
    {
     "ename": "UnboundLocalError",
     "evalue": "local variable 'mid' referenced before assignment",
     "output_type": "error",
     "traceback": [
      "\u001b[0;31m---------------------------------------------------------------------------\u001b[0m",
      "\u001b[0;31mUnboundLocalError\u001b[0m                         Traceback (most recent call last)",
      "Cell \u001b[0;32mIn[74], line 58\u001b[0m\n\u001b[1;32m     54\u001b[0m             binary_search(num_eggs, floors, mid \u001b[39m+\u001b[39m \u001b[39m1\u001b[39m, high)\n\u001b[1;32m     56\u001b[0m     \u001b[39mreturn\u001b[39;00m mid\n\u001b[0;32m---> 58\u001b[0m \u001b[39mprint\u001b[39m(eggs_dropping(\u001b[39m2\u001b[39;49m,\u001b[39m100\u001b[39;49m))\n\u001b[1;32m     59\u001b[0m \u001b[39mprint\u001b[39m(eggs(\u001b[39m50\u001b[39m,\u001b[39m2\u001b[39m))\n",
      "Cell \u001b[0;32mIn[74], line 39\u001b[0m, in \u001b[0;36meggs_dropping\u001b[0;34m(num_eggs, floors)\u001b[0m\n\u001b[1;32m     38\u001b[0m \u001b[39mdef\u001b[39;00m \u001b[39meggs_dropping\u001b[39m(num_eggs, floors):\n\u001b[0;32m---> 39\u001b[0m     \u001b[39mreturn\u001b[39;00m binary_search(num_eggs, floors, \u001b[39m0\u001b[39;49m, floors)\n",
      "Cell \u001b[0;32mIn[74], line 51\u001b[0m, in \u001b[0;36mbinary_search\u001b[0;34m(num_eggs, floors, low, high)\u001b[0m\n\u001b[1;32m     48\u001b[0m     \u001b[39mreturn\u001b[39;00m mid\n\u001b[1;32m     50\u001b[0m \u001b[39mif\u001b[39;00m eggs(mid,num_eggs) \u001b[39m>\u001b[39m floors:\n\u001b[0;32m---> 51\u001b[0m     binary_search(num_eggs, floors, low, mid \u001b[39m-\u001b[39;49m \u001b[39m1\u001b[39;49m)\n\u001b[1;32m     53\u001b[0m \u001b[39melse\u001b[39;00m:\n\u001b[1;32m     54\u001b[0m     binary_search(num_eggs, floors, mid \u001b[39m+\u001b[39m \u001b[39m1\u001b[39m, high)\n",
      "Cell \u001b[0;32mIn[74], line 51\u001b[0m, in \u001b[0;36mbinary_search\u001b[0;34m(num_eggs, floors, low, high)\u001b[0m\n\u001b[1;32m     48\u001b[0m     \u001b[39mreturn\u001b[39;00m mid\n\u001b[1;32m     50\u001b[0m \u001b[39mif\u001b[39;00m eggs(mid,num_eggs) \u001b[39m>\u001b[39m floors:\n\u001b[0;32m---> 51\u001b[0m     binary_search(num_eggs, floors, low, mid \u001b[39m-\u001b[39;49m \u001b[39m1\u001b[39;49m)\n\u001b[1;32m     53\u001b[0m \u001b[39melse\u001b[39;00m:\n\u001b[1;32m     54\u001b[0m     binary_search(num_eggs, floors, mid \u001b[39m+\u001b[39m \u001b[39m1\u001b[39m, high)\n",
      "Cell \u001b[0;32mIn[74], line 54\u001b[0m, in \u001b[0;36mbinary_search\u001b[0;34m(num_eggs, floors, low, high)\u001b[0m\n\u001b[1;32m     51\u001b[0m         binary_search(num_eggs, floors, low, mid \u001b[39m-\u001b[39m \u001b[39m1\u001b[39m)\n\u001b[1;32m     53\u001b[0m     \u001b[39melse\u001b[39;00m:\n\u001b[0;32m---> 54\u001b[0m         binary_search(num_eggs, floors, mid \u001b[39m+\u001b[39;49m \u001b[39m1\u001b[39;49m, high)\n\u001b[1;32m     56\u001b[0m \u001b[39mreturn\u001b[39;00m mid\n",
      "Cell \u001b[0;32mIn[74], line 51\u001b[0m, in \u001b[0;36mbinary_search\u001b[0;34m(num_eggs, floors, low, high)\u001b[0m\n\u001b[1;32m     48\u001b[0m     \u001b[39mreturn\u001b[39;00m mid\n\u001b[1;32m     50\u001b[0m \u001b[39mif\u001b[39;00m eggs(mid,num_eggs) \u001b[39m>\u001b[39m floors:\n\u001b[0;32m---> 51\u001b[0m     binary_search(num_eggs, floors, low, mid \u001b[39m-\u001b[39;49m \u001b[39m1\u001b[39;49m)\n\u001b[1;32m     53\u001b[0m \u001b[39melse\u001b[39;00m:\n\u001b[1;32m     54\u001b[0m     binary_search(num_eggs, floors, mid \u001b[39m+\u001b[39m \u001b[39m1\u001b[39m, high)\n",
      "Cell \u001b[0;32mIn[74], line 51\u001b[0m, in \u001b[0;36mbinary_search\u001b[0;34m(num_eggs, floors, low, high)\u001b[0m\n\u001b[1;32m     48\u001b[0m     \u001b[39mreturn\u001b[39;00m mid\n\u001b[1;32m     50\u001b[0m \u001b[39mif\u001b[39;00m eggs(mid,num_eggs) \u001b[39m>\u001b[39m floors:\n\u001b[0;32m---> 51\u001b[0m     binary_search(num_eggs, floors, low, mid \u001b[39m-\u001b[39;49m \u001b[39m1\u001b[39;49m)\n\u001b[1;32m     53\u001b[0m \u001b[39melse\u001b[39;00m:\n\u001b[1;32m     54\u001b[0m     binary_search(num_eggs, floors, mid \u001b[39m+\u001b[39m \u001b[39m1\u001b[39m, high)\n",
      "Cell \u001b[0;32mIn[74], line 54\u001b[0m, in \u001b[0;36mbinary_search\u001b[0;34m(num_eggs, floors, low, high)\u001b[0m\n\u001b[1;32m     51\u001b[0m         binary_search(num_eggs, floors, low, mid \u001b[39m-\u001b[39m \u001b[39m1\u001b[39m)\n\u001b[1;32m     53\u001b[0m     \u001b[39melse\u001b[39;00m:\n\u001b[0;32m---> 54\u001b[0m         binary_search(num_eggs, floors, mid \u001b[39m+\u001b[39;49m \u001b[39m1\u001b[39;49m, high)\n\u001b[1;32m     56\u001b[0m \u001b[39mreturn\u001b[39;00m mid\n",
      "Cell \u001b[0;32mIn[74], line 54\u001b[0m, in \u001b[0;36mbinary_search\u001b[0;34m(num_eggs, floors, low, high)\u001b[0m\n\u001b[1;32m     51\u001b[0m         binary_search(num_eggs, floors, low, mid \u001b[39m-\u001b[39m \u001b[39m1\u001b[39m)\n\u001b[1;32m     53\u001b[0m     \u001b[39melse\u001b[39;00m:\n\u001b[0;32m---> 54\u001b[0m         binary_search(num_eggs, floors, mid \u001b[39m+\u001b[39;49m \u001b[39m1\u001b[39;49m, high)\n\u001b[1;32m     56\u001b[0m \u001b[39mreturn\u001b[39;00m mid\n",
      "Cell \u001b[0;32mIn[74], line 56\u001b[0m, in \u001b[0;36mbinary_search\u001b[0;34m(num_eggs, floors, low, high)\u001b[0m\n\u001b[1;32m     53\u001b[0m     \u001b[39melse\u001b[39;00m:\n\u001b[1;32m     54\u001b[0m         binary_search(num_eggs, floors, mid \u001b[39m+\u001b[39m \u001b[39m1\u001b[39m, high)\n\u001b[0;32m---> 56\u001b[0m \u001b[39mreturn\u001b[39;00m mid\n",
      "\u001b[0;31mUnboundLocalError\u001b[0m: local variable 'mid' referenced before assignment"
     ]
    }
   ],
   "source": [
    "import numpy as np\n",
    "\n",
    "def eggs(d,n):\n",
    "    if d == 0:\n",
    "        return 0\n",
    "    if n == 0:\n",
    "        return 0\n",
    "    return 1 + eggs(d-1,n-1) + eggs(d-1,n)\n",
    "\n",
    "\"\"\" def solvepuzzle(N,k):\n",
    "\n",
    "    numdrops =  [(i,j) for i in range(1,N+1) for j in range(k+1)]\n",
    "    print(numdrops)\n",
    "    drops = {count:np.inf for count in numdrops}\n",
    "\n",
    "    for i in range (0, N+1):\n",
    "        drops[i,1] = 1\n",
    "        drops[i,0] = 0\n",
    "    print(drops)\n",
    "\n",
    "    for i in range (0,k+1):\n",
    "        drops[1, i] = i\n",
    "\n",
    "    for i in range (2,N+1):\n",
    "        for j in range (2,k+1):\n",
    "            minimum = np.inf\n",
    "            for x in range (1,j):\n",
    "                minimum = min(minimum, 1 + max(eggs_dropping(i-1,x-1),eggs_dropping(i,j-x)))\n",
    "            drops[i,j] = minimum\n",
    "    return drops[N,k] \"\"\"\n",
    "\n",
    "def eggs_dropping(num_eggs, floors):\n",
    "    drops = 0\n",
    "    while eggs(drops,num_eggs) < floors:\n",
    "        drops += 1\n",
    "    return drops\n",
    "\n",
    "def eggs_dropping(num_eggs, floors):\n",
    "    return binary_search(num_eggs, floors, 0, floors)\n",
    "\n",
    "def binary_search(num_eggs, floors, low, high):\n",
    "\n",
    "    while high >= low:\n",
    "\n",
    "        mid = (high + low) // 2\n",
    " \n",
    "        if eggs(mid,num_eggs) == floors:\n",
    "            return mid\n",
    " \n",
    "        if eggs(mid,num_eggs) > floors:\n",
    "            binary_search(num_eggs, floors, low, mid - 1)\n",
    " \n",
    "        else:\n",
    "            binary_search(num_eggs, floors, mid + 1, high)\n",
    " \n",
    "    return mid\n",
    "    \n",
    "print(eggs_dropping(2,100))\n",
    "print(eggs(50,2))\n",
    "\n"
   ]
  }
 ],
 "metadata": {
  "kernelspec": {
   "display_name": "Python 3",
   "language": "python",
   "name": "python3"
  },
  "language_info": {
   "name": "python",
   "version": "3.10.6"
  },
  "orig_nbformat": 4
 },
 "nbformat": 4,
 "nbformat_minor": 2
}
