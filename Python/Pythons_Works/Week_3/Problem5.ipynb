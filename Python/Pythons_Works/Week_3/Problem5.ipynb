{
 "cells": [
  {
   "cell_type": "code",
   "execution_count": 4,
   "metadata": {},
   "outputs": [
    {
     "data": {
      "text/plain": [
       "[34, 2, -45, 76, 32, -122, 56, 89, 32]"
      ]
     },
     "execution_count": 4,
     "metadata": {},
     "output_type": "execute_result"
    }
   ],
   "source": [
    "import numpy as np\n",
    "import queue\n",
    "\n",
    "def find_subarray(arr,k):\n",
    "    if k == len(arr):\n",
    "          return arr\n",
    "    \n",
    "    min = np.inf\n",
    "    minsubarray = []\n",
    "    for i in range(0,len(arr)-k):\n",
    "            if min > sum(arr[i:k+i]):\n",
    "                  min = sum(arr[i:k+i])\n",
    "                  minsubarray =  arr[i:k+i]\n",
    "    return minsubarray\n",
    "\n",
    "arr =  [34,2,-45,76,32,-122,56,89,32]\n",
    "find_subarray(arr,9)\n",
    "\n",
    "import numpy as np\n",
    "\n",
    "def find_subarray(arr,k):\n",
    "    if k == len(arr):\n",
    "          return arr\n",
    "    \n",
    "    q = queue.Queue()\n",
    "    for i in range(0, k+1):\n",
    "        q.put(arr[i])\n",
    "    minsum = sum(q)\n",
    "\n",
    "    min = np.inf\n",
    "    minsubarray = []\n",
    "    for i in range(0,len(arr)-k):\n",
    "            if min > sum(arr[i:k+i]):\n",
    "                  min = sum(arr[i:k+i])\n",
    "                  minsubarray =  arr[i:k+i]\n",
    "    return minsubarray\n",
    "\n",
    "arr =  [34,2,-45,76,32,-122,56,89,32]\n",
    "find_subarray(arr,9)"
   ]
  }
 ],
 "metadata": {
  "kernelspec": {
   "display_name": "Python 3",
   "language": "python",
   "name": "python3"
  },
  "language_info": {
   "codemirror_mode": {
    "name": "ipython",
    "version": 3
   },
   "file_extension": ".py",
   "mimetype": "text/x-python",
   "name": "python",
   "nbconvert_exporter": "python",
   "pygments_lexer": "ipython3",
   "version": "3.10.6"
  },
  "orig_nbformat": 4
 },
 "nbformat": 4,
 "nbformat_minor": 2
}
