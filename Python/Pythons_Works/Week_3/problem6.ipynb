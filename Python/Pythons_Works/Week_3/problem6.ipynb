{
 "cells": [
  {
   "cell_type": "code",
   "execution_count": 16,
   "metadata": {},
   "outputs": [
    {
     "name": "stdout",
     "output_type": "stream",
     "text": [
      "{6: 0, 8: 1, 12: 2, 2: 3, 3: 4, 5: 5, 4: 6}\n"
     ]
    },
    {
     "data": {
      "text/plain": [
       "21"
      ]
     },
     "execution_count": 16,
     "metadata": {},
     "output_type": "execute_result"
    }
   ],
   "source": [
    "import numpy as np\n",
    "\n",
    "def consecutive(arr):\n",
    "    num = np.inf\n",
    "    count = 0\n",
    "    max = 0\n",
    "    d = {}\n",
    "    for i,j in enumerate(arr):\n",
    "        d[j]=i\n",
    "\n",
    "    print(d)\n",
    "\n",
    "    for i in range(len(arr)-1):\n",
    "        while arr[i]+1 in d:\n",
    "            num = arr[i]+1\n",
    "            i =+ 1\n",
    "        d[i] = \"null\"\n",
    "            \n",
    "    for i in range(len(arr)-1):\n",
    "        while i+1<len(arr) and arr[i+1] != num:\n",
    "            count +=1\n",
    "            i += 1\n",
    "            if count > max:\n",
    "                max = count\n",
    "\n",
    "    return count\n",
    "\n",
    "arr = [6,8,12,2,3,5,4]\n",
    "consecutive(arr)\n",
    "\n"
   ]
  }
 ],
 "metadata": {
  "kernelspec": {
   "display_name": "Python 3",
   "language": "python",
   "name": "python3"
  },
  "language_info": {
   "codemirror_mode": {
    "name": "ipython",
    "version": 3
   },
   "file_extension": ".py",
   "mimetype": "text/x-python",
   "name": "python",
   "nbconvert_exporter": "python",
   "pygments_lexer": "ipython3",
   "version": "3.10.6"
  },
  "orig_nbformat": 4
 },
 "nbformat": 4,
 "nbformat_minor": 2
}
