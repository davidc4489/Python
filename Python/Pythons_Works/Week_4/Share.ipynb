{
 "cells": [
  {
   "cell_type": "code",
   "execution_count": 5,
   "metadata": {},
   "outputs": [
    {
     "data": {
      "text/plain": [
       "29"
      ]
     },
     "execution_count": 5,
     "metadata": {},
     "output_type": "execute_result"
    }
   ],
   "source": [
    "def get_max_profit(arr):\n",
    "    minimum = arr[0]\n",
    "    max = arr[1]\n",
    "    PossMin = min(minimum,max)\n",
    "\n",
    "    for i in range(2,len(arr)):\n",
    "        if arr[i] > max:\n",
    "            max = arr[i]\n",
    "        \n",
    "        if arr[i] - PossMin > max - minimum:\n",
    "            minimum = PossMin\n",
    "            max = arr[i]\n",
    "\n",
    "        if arr[i] < minimum:\n",
    "            PossMin = arr[i]\n",
    "\n",
    "    return max - minimum\n",
    "\n",
    "get_max_profit([2,21,18,1,20,3,30])"
   ]
  }
 ],
 "metadata": {
  "kernelspec": {
   "display_name": "Python 3",
   "language": "python",
   "name": "python3"
  },
  "language_info": {
   "codemirror_mode": {
    "name": "ipython",
    "version": 3
   },
   "file_extension": ".py",
   "mimetype": "text/x-python",
   "name": "python",
   "nbconvert_exporter": "python",
   "pygments_lexer": "ipython3",
   "version": "3.10.6"
  },
  "orig_nbformat": 4
 },
 "nbformat": 4,
 "nbformat_minor": 2
}
