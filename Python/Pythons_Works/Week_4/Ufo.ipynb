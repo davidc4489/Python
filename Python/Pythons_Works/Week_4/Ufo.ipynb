{
 "cells": [
  {
   "cell_type": "code",
   "execution_count": 103,
   "metadata": {},
   "outputs": [
    {
     "name": "stdout",
     "output_type": "stream",
     "text": [
      "['2 B 1\\n', '2 F 2\\n', '4 D 3\\n', '4 E 1\\n', '4 H 4\\n', '6 B 2\\n', '7 G 1\\n']\n",
      "1\n",
      "<class 'str'>\n",
      "1\n",
      "<class 'int'>\n",
      "66\n",
      "1\n"
     ]
    }
   ],
   "source": [
    "import numpy as np\n",
    "\n",
    "file1 = open(\"test.txt\",\"r\")\n",
    "texte = file1.readlines()\n",
    "print(texte)\n",
    "print(texte[0][-2])\n",
    "print(type(texte[0][-2]))\n",
    "x = int(texte[0][-2])\n",
    "print(texte[0][-2])\n",
    "print(type(x))\n",
    "print(ord(texte[0][2]))\n",
    "\n",
    "lenTexte = len(texte)\n",
    "print(x)\n"
   ]
  },
  {
   "cell_type": "code",
   "execution_count": 125,
   "metadata": {},
   "outputs": [
    {
     "name": "stdout",
     "output_type": "stream",
     "text": [
      "[[0 0 0 0 0 0 0 0 0]\n",
      " [0 1 0 0 0 2 0 0 0]\n",
      " [0 0 0 0 0 0 0 0 0]\n",
      " [0 0 0 3 1 0 0 4 0]\n",
      " [0 0 0 0 0 0 0 0 0]\n",
      " [0 2 0 0 0 0 0 0 0]\n",
      " [0 0 0 0 0 0 1 0 0]]\n",
      "[1 2 3 4 5 6 7]\n",
      "['A' 'B' 'C' 'D' 'E' 'F' 'G' 'H' 'I']\n",
      "[[0 1 0 0 0 2 0 0 0]\n",
      " [0 0 0 3 1 0 0 4 0]\n",
      " [0 2 0 0 0 0 0 0 0]]\n",
      "13\n",
      "7\n",
      "[0 3 0 3 1 2 1 4 0]\n",
      "4\n",
      "7\n",
      "H\n"
     ]
    }
   ],
   "source": [
    "import numpy as np\n",
    "def load_uncounters(filename, row_ids, col_ids):\n",
    "    arr = np.array([[0]*len(col_ids)]*len(row_ids))\n",
    "\n",
    "    file1 = open(filename,\"r\")\n",
    "    texte = file1.readlines()\n",
    "\n",
    "    lenTexte = len(texte)\n",
    "\n",
    "    \"\"\" Also OK\n",
    "            for i in range(lenTexte):\n",
    "        x = ord(texte[i][0])-49\n",
    "        y = ord(texte[i][2])-65\n",
    "        arr[x][y] = int(texte[i][-2]) \"\"\"\n",
    "\n",
    "    for i in range(lenTexte):\n",
    "        x = int(texte[i][0])\n",
    "        y = ord(texte[i][2])-65\n",
    "        arr[x-1][y] = int(texte[i][-2])\n",
    "\n",
    "    arr2 = np.array(row_ids)\n",
    "    arr3 = np.array(col_ids)\n",
    "\n",
    "    return arr, arr2, arr3\n",
    "\n",
    "a = [1,2,3,4,5,6,7]\n",
    "b = ['A','B','C','D','E','F','G','H','I']\n",
    "print(load_uncounters(\"test.txt\", a, b)[0])\n",
    "print(load_uncounters(\"test.txt\", a, b)[1])\n",
    "print(load_uncounters(\"test.txt\", a, b)[2])\n",
    "\n",
    "arrFinal = load_uncounters(\"test.txt\", a, b)[0]\n",
    "\n",
    "arrFinal = load_uncounters(\"test.txt\", a, b)[0]\n",
    "\n",
    "arrFinal.max()\n",
    "\n",
    "arrOdd = arrFinal[1::2]\n",
    "print(arrOdd)\n",
    "print(np.sum(arrOdd))\n",
    "\n",
    "arrCases = np.where(arrFinal != 0)\n",
    "print(len(arrCases[0]))\n",
    "\n",
    "sumCol = np.sum(arrFinal, axis = 0)\n",
    "print(sumCol)\n",
    "max = sumCol.max()\n",
    "print(max)\n",
    "maxPos = np.where(sumCol == max)\n",
    "print(maxPos[0][0])\n",
    "\n",
    "print(b[maxPos[0][0]])\n",
    "\n",
    "\n"
   ]
  }
 ],
 "metadata": {
  "kernelspec": {
   "display_name": "Python 3",
   "language": "python",
   "name": "python3"
  },
  "language_info": {
   "codemirror_mode": {
    "name": "ipython",
    "version": 3
   },
   "file_extension": ".py",
   "mimetype": "text/x-python",
   "name": "python",
   "nbconvert_exporter": "python",
   "pygments_lexer": "ipython3",
   "version": "3.10.6"
  },
  "orig_nbformat": 4
 },
 "nbformat": 4,
 "nbformat_minor": 2
}
