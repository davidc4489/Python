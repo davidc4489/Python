{
 "cells": [
  {
   "cell_type": "code",
   "execution_count": 23,
   "metadata": {},
   "outputs": [
    {
     "name": "stdout",
     "output_type": "stream",
     "text": [
      "[['Time Slot', 'Free weights', 'Pull-up bar', 'Bench press', 'Ab crunch', 'Cross Trainer'], ['T6-8', '0', '0', '0', '0', '0'], ['T8-10', '4', '3', '5', '8', '14'], ['T10-12', '3', '1', '2', '2', '12'], ['T12-14', '1', '2', '4', '1', '8'], ['T14-16', '0', '0', '0', '0', '0'], ['T16-18', '1', '2', '4', '5', '16'], ['T18-20', '3', '4', '5', '8', '10'], ['T20-22', '4', '5', '2', '6', '20'], ['T22-24', '0', '0', '0', '0', '0']]\n",
      "['Free weights' 'Pull-up bar' 'Bench press' 'Ab crunch' 'Cross Trainer']\n",
      "['' 'T8-10' 'T8-10' 'T8-10' 'T8-10' 'T8-10' 'T8-10' 'T8-10' 'T8-10']\n",
      "[[ 0  0  0  0  0]\n",
      " [ 4  3  5  8 14]\n",
      " [ 3  1  2  2 12]\n",
      " [ 1  2  4  1  8]\n",
      " [ 0  0  0  0  0]\n",
      " [ 1  2  4  5 16]\n",
      " [ 3  4  5  8 10]\n",
      " [ 4  5  2  6 20]\n",
      " [ 0  0  0  0  0]]\n",
      "[[0]\n",
      " [4]\n",
      " [8]]\n",
      "[0, 1, 5, 9]\n",
      "   4  3  5  8  14\n",
      "0  3  1  2  2  12\n",
      "1  1  2  4  1   8\n",
      "2  1  2  4  5  16\n",
      "3  3  4  5  8  10\n",
      "4  4  5  2  6  20\n",
      "['4', '3', '5', '8', '14']\n"
     ]
    }
   ],
   "source": [
    "import numpy as np\n",
    "import csv\n",
    "import pandas as pd\n",
    "\n",
    "with open(\"Training.csv\", 'r') as file:\n",
    "    data = csv.reader(file)\n",
    "    mylist = list(data)\n",
    "    print(mylist)\n",
    "\n",
    "    arr1 = np.array(mylist[0][1::]) \n",
    "    print(arr1)\n",
    "\n",
    "    arr2 = np.array([\"\"]*(len(mylist)-1),dtype='object')\n",
    "    for i in range(1,len(mylist)-1):\n",
    "        arr2[i] = mylist[2][0]\n",
    "    print(arr2)\n",
    "\n",
    "    x = np.loadtxt('Training.csv',usecols=range(1,6), skiprows=1, delimiter=',', dtype='int')\n",
    "    print(x)\n",
    "\n",
    "    print(np.argwhere(np.sum(x,axis=1)==0))\n",
    "    a = np.argwhere(np.sum(x,axis=1)==0)\n",
    "    b =[0]\n",
    "    for i in range(len(a)):\n",
    "        b.append(a[i][0]+1)\n",
    "    print(b)\n",
    "\n",
    "    df = pd.read_csv('Training.csv', skiprows=b, usecols=range(1,6))\n",
    "    print(df)\n",
    "\n",
    "\n"
   ]
  }
 ],
 "metadata": {
  "kernelspec": {
   "display_name": "Python 3",
   "language": "python",
   "name": "python3"
  },
  "language_info": {
   "codemirror_mode": {
    "name": "ipython",
    "version": 3
   },
   "file_extension": ".py",
   "mimetype": "text/x-python",
   "name": "python",
   "nbconvert_exporter": "python",
   "pygments_lexer": "ipython3",
   "version": "3.10.6"
  },
  "orig_nbformat": 4
 },
 "nbformat": 4,
 "nbformat_minor": 2
}
