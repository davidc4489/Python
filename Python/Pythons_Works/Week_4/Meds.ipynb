{
 "cells": [
  {
   "cell_type": "code",
   "execution_count": 4,
   "metadata": {},
   "outputs": [
    {
     "name": "stdout",
     "output_type": "stream",
     "text": [
      "{1: 0, 2: 0, 3: 0, 4: 60, 5: 10, 6: 0, 7: 0, 8: 0, 9: 31, 10: 0}\n"
     ]
    }
   ],
   "source": [
    "def print_total_cost_per_priority(meds):\n",
    "    dictMeds = {1:0,2:0,3:0,4:0,5:0,6:0,7:0,8:0,9:0,10:0}\n",
    "\n",
    "    for i in range(len(meds)):\n",
    "        prior = meds[i][0]\n",
    "        dictMeds[prior] += meds[i][1]\n",
    "\n",
    "    return dictMeds\n",
    "\n",
    "meds = [(5,10), (4,20), (9,30), (4,40), (9,1)]\n",
    "print(print_total_cost_per_priority(meds))"
   ]
  },
  {
   "cell_type": "code",
   "execution_count": 12,
   "metadata": {},
   "outputs": [
    {
     "name": "stdout",
     "output_type": "stream",
     "text": [
      "1 : 0\n",
      "2 : 0\n",
      "3 : 0\n",
      "4 : 60\n",
      "5 : 10\n",
      "6 : 0\n",
      "7 : 0\n",
      "8 : 0\n",
      "9 : 31\n",
      "10 : 0\n",
      "None\n"
     ]
    }
   ],
   "source": [
    "def print_total_cost_per_priority(meds):\n",
    "    for i in range(1,11):\n",
    "        million = 0\n",
    "        for tuple in meds:\n",
    "            if tuple[0] == i:\n",
    "                million += tuple[1]\n",
    "        print(i,\":\",million)  \n",
    "meds = [(5,10), (4,20), (9,30), (4,40), (9,1)]\n",
    "print(print_total_cost_per_priority(meds))              \n",
    "\n"
   ]
  },
  {
   "cell_type": "code",
   "execution_count": 20,
   "metadata": {},
   "outputs": [
    {
     "ename": "TypeError",
     "evalue": "'<' not supported between instances of 'NoneType' and 'float'",
     "output_type": "error",
     "traceback": [
      "\u001b[0;31m---------------------------------------------------------------------------\u001b[0m",
      "\u001b[0;31mTypeError\u001b[0m                                 Traceback (most recent call last)",
      "Cell \u001b[0;32mIn[20], line 23\u001b[0m\n\u001b[1;32m     21\u001b[0m meds \u001b[39m=\u001b[39m [(\u001b[39m5\u001b[39m,\u001b[39m10\u001b[39m),(\u001b[39m4\u001b[39m,\u001b[39m20\u001b[39m),(\u001b[39m9\u001b[39m,\u001b[39m30\u001b[39m),(\u001b[39m4\u001b[39m,\u001b[39m40\u001b[39m),(\u001b[39m9\u001b[39m,\u001b[39m1\u001b[39m)]\n\u001b[1;32m     22\u001b[0m names \u001b[39m=\u001b[39m [\u001b[39m'\u001b[39m\u001b[39mL\u001b[39m\u001b[39m'\u001b[39m, \u001b[39m'\u001b[39m\u001b[39mH\u001b[39m\u001b[39m'\u001b[39m, \u001b[39m'\u001b[39m\u001b[39mC\u001b[39m\u001b[39m'\u001b[39m, \u001b[39m'\u001b[39m\u001b[39mA\u001b[39m\u001b[39m'\u001b[39m, \u001b[39m'\u001b[39m\u001b[39mAA\u001b[39m\u001b[39m'\u001b[39m]\n\u001b[0;32m---> 23\u001b[0m sort_meds(meds,names)\n",
      "Cell \u001b[0;32mIn[20], line 16\u001b[0m, in \u001b[0;36msort_meds\u001b[0;34m(meds, names)\u001b[0m\n\u001b[1;32m     12\u001b[0m \u001b[39mfor\u001b[39;00m i \u001b[39min\u001b[39;00m \u001b[39mrange\u001b[39m(\u001b[39mlen\u001b[39m(names)\u001b[39m-\u001b[39m\u001b[39m1\u001b[39m):\n\u001b[1;32m     13\u001b[0m     lis[i]\u001b[39m=\u001b[39m(names[i],arr[i])\n\u001b[0;32m---> 16\u001b[0m lis\u001b[39m.\u001b[39;49msort(key\u001b[39m=\u001b[39;49mtakeSecond)\n\u001b[1;32m     17\u001b[0m arr \u001b[39m=\u001b[39m []\n\u001b[1;32m     18\u001b[0m \u001b[39mfor\u001b[39;00m i \u001b[39min\u001b[39;00m \u001b[39mrange\u001b[39m(\u001b[39mlen\u001b[39m(lis)):\n",
      "\u001b[0;31mTypeError\u001b[0m: '<' not supported between instances of 'NoneType' and 'float'"
     ]
    }
   ],
   "source": [
    "\"\"\" def takeSecond(elem):\n",
    "    return elem[1]\n",
    "\n",
    "\n",
    "def sort_meds(meds,names):\n",
    "    arr=[0]*len(names)\n",
    "\n",
    "    for i in range(len(meds)-1):\n",
    "        arr[i]=meds[i][0]/meds[i][1]\n",
    "\n",
    "    lis = [(None,None)]*len(names)\n",
    "    for i in range(len(names)-1):\n",
    "        lis[i]=(names[i],arr[i])\n",
    "\n",
    "\n",
    "    lis.sort(key=takeSecond)\n",
    "    arr = []\n",
    "    for i in range(len(lis)):\n",
    "        arr[i]=(lis[i][0])\n",
    "\n",
    "meds = [(5,10),(4,20),(9,30),(4,40),(9,1)]\n",
    "names = ['L', 'H', 'C', 'A', 'AA']\n",
    "sort_meds(meds,names) \"\"\"\n"
   ]
  },
  {
   "cell_type": "code",
   "execution_count": 24,
   "metadata": {},
   "outputs": [
    {
     "name": "stdout",
     "output_type": "stream",
     "text": [
      "3\n"
     ]
    }
   ],
   "source": [
    "def count(meds,t):\n",
    "    if t < meds[0][1]:\n",
    "        return 0\n",
    "    elif len(meds)==1:\n",
    "        return 1\n",
    "    else:\n",
    "        return 1 + count(meds[1::],t-meds[0][1])\n",
    "    \n",
    "meds2 = [(10,2), (4,1), (6,3), (3,2)]\n",
    "print(count(meds2,7))\n"
   ]
  }
 ],
 "metadata": {
  "kernelspec": {
   "display_name": "Python 3",
   "language": "python",
   "name": "python3"
  },
  "language_info": {
   "codemirror_mode": {
    "name": "ipython",
    "version": 3
   },
   "file_extension": ".py",
   "mimetype": "text/x-python",
   "name": "python",
   "nbconvert_exporter": "python",
   "pygments_lexer": "ipython3",
   "version": "3.10.6"
  },
  "orig_nbformat": 4
 },
 "nbformat": 4,
 "nbformat_minor": 2
}
