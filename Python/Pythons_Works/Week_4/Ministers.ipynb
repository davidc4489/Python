{
 "cells": [
  {
   "cell_type": "code",
   "execution_count": null,
   "metadata": {},
   "outputs": [],
   "source": [
    "class Minister:\n",
    "    def __init__(self, name, party):\n",
    "        self.name = name\n",
    "        self.party = party\n",
    "\n",
    "    def add_rule(self, rule, constitution):\n",
    "        constitution.add_rule(rule)\n",
    "        print(\"A new rule by \"+self.name+\"was accepted\")\n",
    "\n",
    "    def cancel_rule(self, rule, constitution):\n",
    "        constitution.remove_rule(rule)\n",
    "        print(\"Ruse was canceled by \"+self.name)\n",
    "\n",
    "class ActingMinister(Minister):\n",
    "    def __init__(self, name, party, ministry_name):\n",
    "        Minister.__init__(self, name, party)\n",
    "        self.ministry_name = ministry_name.upper()\n",
    "\n",
    "    def add_rule(self, rule, constitution, votes):\n",
    "        if sum(votes) > (len(votes)/2):\n",
    "            Minister.add_rule(self, rule, constitution)\n",
    "        else:\n",
    "            print(\"Rule was not accepted\")\n",
    "\n",
    "    def cancel_rule(self, rule, constitution):\n",
    "        if self.ministry_name not in rule.upper():\n",
    "            raise ValueError\n",
    "        Minister.cancel_rule(self, rule, constitution)\n",
    "\n",
    "def most_productive_ministry(rule_to_ministry_dict):\n",
    "    ministry_to_count_dict = {}\n",
    "    for rule in rule_to_ministry_dict:\n",
    "        ministry = rule_to_ministry_dict [rule]\n",
    "        ministry_to_count_dict[ministry] = ministry_to_count_dict.get(ministry, 0) + 1\n",
    "    return max(ministry_to_count_dict, key = ministry_to_count_dict.get)\n",
    "\n",
    "myfirst_name = \"John\"\n"
   ]
  }
 ],
 "metadata": {
  "language_info": {
   "name": "python"
  },
  "orig_nbformat": 4
 },
 "nbformat": 4,
 "nbformat_minor": 2
}
