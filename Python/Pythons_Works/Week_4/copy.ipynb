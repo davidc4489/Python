{
 "cells": [
  {
   "cell_type": "code",
   "execution_count": 3,
   "metadata": {},
   "outputs": [
    {
     "name": "stdout",
     "output_type": "stream",
     "text": [
      "[[0 0 0 0 0 0]\n",
      " [0 0 0 0 0 0]\n",
      " [0 0 0 0 0 0]\n",
      " [0 0 0 0 0 0]]\n",
      "[[0 0 0 0 0 0]\n",
      " [0 0 0 0 0 0]\n",
      " [0 0 0 4 0 0]\n",
      " [0 0 0 0 0 0]]\n"
     ]
    }
   ],
   "source": [
    "import numpy as np\n",
    "def load_uncounters(filename, row_ids, col_ids):\n",
    "    arr = np.array([[0]*len(col_ids)]*len(row_ids))\n",
    "\n",
    "    file1 = open(filename,\"r\")\n",
    "    texte = file1.readlines()\n",
    "\n",
    "    lenTexte = len(texte)\n",
    "\n",
    "    \"\"\" Also OK\n",
    "            for i in range(lenTexte):\n",
    "        x = ord(texte[i][0])-49\n",
    "        y = ord(texte[i][2])-65\n",
    "        arr[x][y] = int(texte[i][-2]) \"\"\"\n",
    "\n",
    "    for i in range(lenTexte):\n",
    "        x = int(texte[i][0])\n",
    "        y = ord(texte[i][2])-65\n",
    "        arr[x-1][y] = int(texte[i][-2])\n",
    "\n",
    "    arr2 = np.array(row_ids)\n",
    "    arr3 = np.array(col_ids)\n",
    "\n",
    "    return arr, arr2, arr3\n",
    "\n",
    "a = [1,2,3,4,5,6,7]\n",
    "b = ['A','B','C','D','E','F','G','H','I']\n",
    "print(load_uncounters(\"test.txt\", a, b)[0])\n",
    "print(load_uncounters(\"test.txt\", a, b)[1])\n",
    "print(load_uncounters(\"test.txt\", a, b)[2])"
   ]
  },
  {
   "cell_type": "code",
   "execution_count": 17,
   "metadata": {},
   "outputs": [
    {
     "name": "stdout",
     "output_type": "stream",
     "text": [
      "[[0 0 0 0 0]\n",
      " [0 0 0 0 0]\n",
      " [0 0 0 0 0]\n",
      " [0 0 0 0 0]]\n",
      "[[ 0  0  0  0  0]\n",
      " [ 0  0  0  0  0]\n",
      " [ 0  0  0 22  0]\n",
      " [ 0  0  0  0  0]]\n"
     ]
    },
    {
     "data": {
      "text/plain": [
       "22"
      ]
     },
     "execution_count": 17,
     "metadata": {},
     "output_type": "execute_result"
    }
   ],
   "source": [
    "arr = np.array([[0]*5]*4)\n",
    "print(arr)\n",
    "arr[2][3]=22\n",
    "print(arr)\n",
    "\n",
    "arr.max()\n",
    "\n"
   ]
  },
  {
   "cell_type": "code",
   "execution_count": 8,
   "metadata": {},
   "outputs": [
    {
     "name": "stdout",
     "output_type": "stream",
     "text": [
      "[[0 0 0 0 0 0 0 0 0]\n",
      " [0 1 0 0 0 2 0 0 0]\n",
      " [0 0 0 0 0 0 0 0 0]\n",
      " [0 0 0 3 1 0 0 4 0]\n",
      " [0 0 0 0 0 0 0 0 0]\n",
      " [0 2 0 0 0 0 0 0 0]\n",
      " [0 0 0 0 0 0 1 0 0]]\n",
      "[1 2 3 4 5 6 7]\n",
      "['A' 'B' 'C' 'D' 'E' 'F' 'G' 'H' 'I']\n",
      "4\n",
      "13\n",
      "7\n",
      "H\n",
      "[[0 0 0 0 0 0 0 0 0]\n",
      " [0 1 0 0 0 2 0 0 0]\n",
      " [0 0 0 0 0 0 0 0 0]\n",
      " [0 0 0 3 1 0 0 4 0]\n",
      " [0 0 0 0 0 0 0 0 0]\n",
      " [0 2 0 0 0 0 0 0 0]\n",
      " [0 0 0 0 0 0 1 0 0]] \n",
      " [1 2 3 4 5 6 7] \n",
      " ['A' 'B' 'C' 'D' 'E' 'F' 'G' 'H' 'I'] \n",
      " 4 \n",
      " 13 \n",
      " 7 \n",
      " H\n"
     ]
    },
    {
     "data": {
      "text/plain": [
       "' arrFinal = load_uncounters(\"test.txt\", a, b)[0]\\n\\narrFinal.max()\\n\\narrOdd = arrFinal[1::2]\\nprint(arrOdd)\\nprint(np.sum(arrOdd))\\n\\narrCases = np.where(arrFinal != 0)\\nprint(len(arrCases[0]))\\n\\nsumCol = np.sum(arrFinal, axis = 0)\\nprint(sumCol)\\nmax = sumCol.max()\\nprint(max)\\nmaxPos = np.where(sumCol == max)\\nprint(maxPos[0][0])\\n\\nprint(b[maxPos[0][0]]) '"
      ]
     },
     "execution_count": 8,
     "metadata": {},
     "output_type": "execute_result"
    }
   ],
   "source": [
    "import numpy as np\n",
    "def load_uncounters(filename, row_ids, col_ids):\n",
    "    arr = np.array([[0]*len(col_ids)]*len(row_ids))\n",
    "\n",
    "    file1 = open(filename,\"r\")\n",
    "    texte = file1.readlines()\n",
    "\n",
    "    lenTexte = len(texte)\n",
    "\n",
    "    \"\"\" Also OK\n",
    "            for i in range(lenTexte):\n",
    "        x = ord(texte[i][0])-49\n",
    "        y = ord(texte[i][2])-65\n",
    "        arr[x][y] = int(texte[i][-2]) \"\"\"\n",
    "\n",
    "    for i in range(lenTexte):\n",
    "        x = int(texte[i][0])\n",
    "        y = ord(texte[i][2])-65\n",
    "        arr[x-1][y] = int(texte[i][-2])\n",
    "\n",
    "    arr2 = np.array(row_ids)\n",
    "    arr3 = np.array(col_ids)\n",
    "\n",
    "    arrOdd = arr[1::2]\n",
    "\n",
    "    arrCases = np.where(arr != 0)\n",
    "\n",
    "    sumCol = np.sum(arr, axis = 0)\n",
    "    max = sumCol.max()\n",
    "    maxPos = np.where(sumCol == max)\n",
    "\n",
    "\n",
    "    return arr, arr2, arr3, arr.max(), np.sum(arrOdd),len(arrCases[0]), b[maxPos[0][0]]\n",
    "\n",
    "a = [1,2,3,4,5,6,7]\n",
    "b = ['A','B','C','D','E','F','G','H','I']\n",
    "print(load_uncounters(\"test.txt\", a, b)[0])\n",
    "print(load_uncounters(\"test.txt\", a, b)[1])\n",
    "print(load_uncounters(\"test.txt\", a, b)[2])\n",
    "print(load_uncounters(\"test.txt\", a, b)[3])\n",
    "print(load_uncounters(\"test.txt\", a, b)[4])\n",
    "print(load_uncounters(\"test.txt\", a, b)[5])\n",
    "print(load_uncounters(\"test.txt\", a, b)[6])\n",
    "x = load_uncounters(\"test.txt\", a, b)\n",
    "print(x[0], \"\\n\", x[1], \"\\n\", x[2], \"\\n\", x[3], \"\\n\", x[4], \"\\n\", x[5], \"\\n\", x[6])\n",
    "\n",
    "\"\"\" arrFinal = load_uncounters(\"test.txt\", a, b)[0]\n",
    "\n",
    "arrFinal.max()\n",
    "\n",
    "arrOdd = arrFinal[1::2]\n",
    "print(arrOdd)\n",
    "print(np.sum(arrOdd))\n",
    "\n",
    "arrCases = np.where(arrFinal != 0)\n",
    "print(len(arrCases[0]))\n",
    "\n",
    "sumCol = np.sum(arrFinal, axis = 0)\n",
    "print(sumCol)\n",
    "max = sumCol.max()\n",
    "print(max)\n",
    "maxPos = np.where(sumCol == max)\n",
    "print(maxPos[0][0])\n",
    "\n",
    "print(b[maxPos[0][0]]) \"\"\""
   ]
  }
 ],
 "metadata": {
  "kernelspec": {
   "display_name": "Python 3",
   "language": "python",
   "name": "python3"
  },
  "language_info": {
   "codemirror_mode": {
    "name": "ipython",
    "version": 3
   },
   "file_extension": ".py",
   "mimetype": "text/x-python",
   "name": "python",
   "nbconvert_exporter": "python",
   "pygments_lexer": "ipython3",
   "version": "3.10.6"
  },
  "orig_nbformat": 4
 },
 "nbformat": 4,
 "nbformat_minor": 2
}
