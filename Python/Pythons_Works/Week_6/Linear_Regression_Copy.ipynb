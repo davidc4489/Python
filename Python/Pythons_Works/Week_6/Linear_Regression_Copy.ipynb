{
 "cells": [
  {
   "cell_type": "code",
   "execution_count": 14,
   "metadata": {},
   "outputs": [
    {
     "data": {
      "text/plain": [
       "(2.000000000000073, 6.999999999999483)"
      ]
     },
     "execution_count": 14,
     "metadata": {},
     "output_type": "execute_result"
    }
   ],
   "source": [
    "x = [1,2,3,4,5,6,7,8,9,10]\n",
    "y = [9,11,13,15,17,19,21,23,25,27]\n",
    "\n",
    "def linear_regression(x,y,num_steps,learning_rate):\n",
    "    a = 2\n",
    "    b = 3\n",
    "    num_steps = num_steps\n",
    "    learning_rate = learning_rate\n",
    "\n",
    "    for i in range(num_steps):\n",
    "        for i in range(len(x)):\n",
    "            a = a - learning_rate * (((((a*x[i]) + b) - y[i]) * x[i]))\n",
    "            b = b - learning_rate * ((((a*x[i]) + b) - y[i]))\n",
    "\n",
    "    return a,b\n",
    "\n",
    "linear_regression(x,y,60000,0.001)"
   ]
  },
  {
   "cell_type": "code",
   "execution_count": 15,
   "metadata": {},
   "outputs": [
    {
     "data": {
      "text/plain": [
       "'     \\n    error = 0\\n\\n    for i in range(len(x)):\\n        error += (((a*x[i]) + b) - y[i])**2\\n\\n    error = error/(2*len(x)) '"
      ]
     },
     "execution_count": 15,
     "metadata": {},
     "output_type": "execute_result"
    }
   ],
   "source": [
    "\"\"\"     \n",
    "    error = 0\n",
    "\n",
    "    for i in range(len(x)):\n",
    "        error += (((a*x[i]) + b) - y[i])**2\n",
    "\n",
    "    error = error/(2*len(x)) \"\"\""
   ]
  },
  {
   "cell_type": "code",
   "execution_count": 16,
   "metadata": {},
   "outputs": [
    {
     "data": {
      "text/plain": [
       "(4.000005384383636, 11.999962515036824)"
      ]
     },
     "execution_count": 16,
     "metadata": {},
     "output_type": "execute_result"
    }
   ],
   "source": [
    "import numpy as np\n",
    "x = np.array([1,2,3,4,5,6,7,8,9,10])\n",
    "y = (4*x)+12\n",
    "\n",
    "def linear_regression(x,y,num_steps,learning_rate):\n",
    "    a = 0\n",
    "    b = 0\n",
    "    num_steps = num_steps\n",
    "    learning_rate = learning_rate\n",
    "\n",
    "    for i in range(num_steps):\n",
    "        a = a - learning_rate * (((((a*x) + b) - y) * x))\n",
    "        a = (np.sum(a,axis=0))/len(x)\n",
    "        b = b - learning_rate * ((((a*x) + b) - y))\n",
    "        b = (np.sum(b,axis=0))/len(x)\n",
    "\n",
    "\n",
    "    return a,b\n",
    "\n",
    "linear_regression(x,y,60000,0.001)"
   ]
  },
  {
   "cell_type": "code",
   "execution_count": 61,
   "metadata": {},
   "outputs": [
    {
     "name": "stdout",
     "output_type": "stream",
     "text": [
      "(0.3506609460602515, 4.887208071948077)\n"
     ]
    },
    {
     "data": {
      "text/plain": [
       "0.05823647147888464"
      ]
     },
     "execution_count": 61,
     "metadata": {},
     "output_type": "execute_result"
    }
   ],
   "source": [
    "# Logistic Regression\n",
    "\n",
    "import math\n",
    "import matplotlib\n",
    "\n",
    "a = 1.0 / (1 + math.exp(-3))\n",
    "\n",
    "x = [1,2,3,4,5,6,7,8,9,10]\n",
    "y = [1,1,1,0,0,0,0,0,0,0]\n",
    "\n",
    "\n",
    "def linear_regression(x,y,num_steps,learning_rate):\n",
    "    a = 2\n",
    "    b = 3\n",
    "    num_steps = num_steps\n",
    "    learning_rate = learning_rate\n",
    "\n",
    "    for i in range(num_steps):\n",
    "        for i in range(len(x)):\n",
    "            predict = 1.0/(1+math.exp(-(a*x[i]) + b))\n",
    "\n",
    "            a = a - learning_rate * ((((predict) - y[i]) * x[i]))\n",
    "            b = b - learning_rate * (((predict) - y[i]))\n",
    "            \n",
    "    return a,b\n",
    "\n",
    "print(linear_regression(x,y,1000,0.001))\n",
    "\n",
    "1.0/(1+math.exp(-(0.3506609460602515*6) + 4.887208071948077))\n",
    "\n"
   ]
  },
  {
   "cell_type": "code",
   "execution_count": null,
   "metadata": {},
   "outputs": [],
   "source": []
  }
 ],
 "metadata": {
  "kernelspec": {
   "display_name": "Python 3",
   "language": "python",
   "name": "python3"
  },
  "language_info": {
   "codemirror_mode": {
    "name": "ipython",
    "version": 3
   },
   "file_extension": ".py",
   "mimetype": "text/x-python",
   "name": "python",
   "nbconvert_exporter": "python",
   "pygments_lexer": "ipython3",
   "version": "3.10.6"
  },
  "orig_nbformat": 4
 },
 "nbformat": 4,
 "nbformat_minor": 2
}
