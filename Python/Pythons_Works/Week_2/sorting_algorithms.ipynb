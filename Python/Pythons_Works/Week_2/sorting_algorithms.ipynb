{
 "cells": [
  {
   "cell_type": "code",
   "execution_count": 5,
   "metadata": {},
   "outputs": [],
   "source": [
    "import time\n",
    "import random\n",
    "import matplotlib.pyplot as plt\n"
   ]
  },
  {
   "cell_type": "code",
   "execution_count": 2,
   "metadata": {},
   "outputs": [],
   "source": [
    "def insertion_sort(arr):\n",
    "    for i in range(1,len(arr)):\n",
    "        j = i\n",
    "        while arr[j-1] > arr[j] and j > 0:\n",
    "            arr[j-1], arr[j] = arr[j], arr[j-1]\n",
    "            j -= 1\n",
    "    return arr"
   ]
  },
  {
   "cell_type": "code",
   "execution_count": null,
   "metadata": {},
   "outputs": [],
   "source": [
    "def quick_sort(arr):\n",
    "    def partition(arr, low, high):\n",
    "        pass\n",
    "    return arr"
   ]
  },
  {
   "cell_type": "code",
   "execution_count": 2,
   "metadata": {},
   "outputs": [],
   "source": [
    "def insertion_sort(arr):\n",
    "    return arr\n",
    "\n",
    "\n",
    "def quick_sort(arr):\n",
    "    def partition(arr, low, high):\n",
    "        pass\n",
    "    return arr\n",
    "\n",
    "\n",
    "def bubble_sort(arr):\n",
    "    return arr\n",
    "\n",
    "\n",
    "def merge_sort(arr):\n",
    "    def merge(arr, left, mid, right):\n",
    "        pass\n",
    "    def merge_sort_helper(arr, left, right):\n",
    "        pass\n",
    "    return arr\n",
    "\n",
    "\n",
    "def radix_sort(arr):\n",
    "    return arr\n"
   ]
  },
  {
   "cell_type": "code",
   "execution_count": 6,
   "metadata": {},
   "outputs": [],
   "source": [
    "#  Test function to verify sorting algorithms\n",
    "def test_sorting_algorithm(sort_func, n=10):\n",
    "    # Perform n random test cases\n",
    "    for _ in range(n):\n",
    "        length = random.randint(10, 100)\n",
    "        arr = [random.randint(100, 100_000) for _ in range(length)]\n",
    "        expected = sorted(arr)\n",
    "        # Verify that the sorted array matches the expected result\n",
    "        assert sort_func(arr) == expected\n",
    "\n",
    "    print(\"All test cases passed\")\n"
   ]
  },
  {
   "cell_type": "code",
   "execution_count": 7,
   "metadata": {},
   "outputs": [
    {
     "name": "stdout",
     "output_type": "stream",
     "text": [
      "All test cases passed\n"
     ]
    }
   ],
   "source": [
    "test_sorting_algorithm(insertion_sort)"
   ]
  },
  {
   "cell_type": "code",
   "execution_count": 1,
   "metadata": {},
   "outputs": [
    {
     "ename": "NameError",
     "evalue": "name 'random' is not defined",
     "output_type": "error",
     "traceback": [
      "\u001b[0;31m---------------------------------------------------------------------------\u001b[0m",
      "\u001b[0;31mNameError\u001b[0m                                 Traceback (most recent call last)",
      "Cell \u001b[0;32mIn[1], line 2\u001b[0m\n\u001b[1;32m      1\u001b[0m length \u001b[39m=\u001b[39m \u001b[39m7\u001b[39m\n\u001b[0;32m----> 2\u001b[0m random\u001b[39m.\u001b[39msample(\u001b[39mrange\u001b[39m(length\u001b[39m*\u001b[39m\u001b[39m*\u001b[39m\u001b[39m2\u001b[39m), length)\n",
      "\u001b[0;31mNameError\u001b[0m: name 'random' is not defined"
     ]
    }
   ],
   "source": [
    "length = 10\n",
    "random.sample(range(length**3), length)"
   ]
  },
  {
   "cell_type": "code",
   "execution_count": null,
   "metadata": {},
   "outputs": [],
   "source": [
    "\n",
    "# Function to plot the performance of sorting algorithms\n",
    "def plot_sorting_performance(algorithms):\n",
    "    # Define the lengths of arrays for performance testing\n",
    "    lengths = [100, 500, 1_000, 5_000, 10_000, 15_000, 20_000]\n",
    "    for algo_name, algo_func in algorithms.items():\n",
    "        execution_times = []\n",
    "        for length in lengths:\n",
    "            arr = random.sample(range(length**3), length)\n",
    "            start_time = time.time()\n",
    "            algo_func(arr)\n",
    "            end_time = time.time()\n",
    "            execution_times.append(end_time - start_time)\n",
    "\n",
    "        # Plot the execution times for each array length\n",
    "        plt.plot(lengths, execution_times, label=algo_name)\n",
    "\n",
    "    plt.xlabel(\"Array Length\")\n",
    "    plt.ylabel(\"Execution Time (seconds)\")\n",
    "    plt.legend()\n",
    "    plt.show()"
   ]
  }
 ],
 "metadata": {
  "kernelspec": {
   "display_name": "Python 3",
   "language": "python",
   "name": "python3"
  },
  "language_info": {
   "codemirror_mode": {
    "name": "ipython",
    "version": 3
   },
   "file_extension": ".py",
   "mimetype": "text/x-python",
   "name": "python",
   "nbconvert_exporter": "python",
   "pygments_lexer": "ipython3",
   "version": "3.10.6"
  },
  "orig_nbformat": 4
 },
 "nbformat": 4,
 "nbformat_minor": 2
}
