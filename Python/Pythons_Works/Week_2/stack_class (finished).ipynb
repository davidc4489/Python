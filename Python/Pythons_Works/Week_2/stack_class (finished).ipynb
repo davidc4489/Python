{
 "cells": [
  {
   "cell_type": "code",
   "execution_count": 9,
   "metadata": {},
   "outputs": [],
   "source": [
    "class Stack:\n",
    "\n",
    "    def __init__(self):\n",
    "        \"\"\"\n",
    "        Initializes an empty stack.\n",
    "        \"\"\"\n",
    "        self.stack = []\n",
    "\n",
    "    def is_empty(self):\n",
    "        \"\"\"\n",
    "        Checks if the stack is empty.\n",
    "        \"\"\"\n",
    "        return len(self.stack) == 0\n",
    "\n",
    "    def push(self, item):\n",
    "        \"\"\"\n",
    "        Pushes an item onto the top of the stack.\n",
    "        \"\"\"\n",
    "        self.stack.append(item)\n",
    "\n",
    "    def pop(self):\n",
    "        \"\"\"\n",
    "        Removes and returns the item at the top of the stack.\n",
    "        \"\"\"\n",
    "        return self.stack.pop()\n",
    "\n",
    "    def top(self):\n",
    "        \"\"\"\n",
    "        Returns the item at the top of the stack without removing it.\n",
    "        \"\"\"\n",
    "        return self.stack[len(self.stack)-1]\n",
    "\n",
    "    def size(self):\n",
    "        \"\"\"\n",
    "        Returns the number of items in the stack.\n",
    "        \"\"\" \n",
    "        return len(self.stack)\n",
    "    \n"
   ]
  },
  {
   "cell_type": "code",
   "execution_count": 14,
   "metadata": {},
   "outputs": [
    {
     "name": "stdout",
     "output_type": "stream",
     "text": [
      "[34, 76, 32, 123, 56787]\n",
      "56787\n",
      "[34, 76, 32, 123]\n",
      "123\n",
      "4\n"
     ]
    }
   ],
   "source": [
    "\n",
    "s1 = Stack()\n",
    "s1.is_empty()\n",
    "s1.push(34)\n",
    "s1.push(76)\n",
    "s1.push(32)\n",
    "s1.push(123)\n",
    "s1.push(56787)\n",
    "print(s1.stack)\n",
    "print(s1.stack[len(s1.stack)-1])\n",
    "s1.pop()\n",
    "print(s1.stack)\n",
    "print(s1.top())\n",
    "print(s1.size())\n"
   ]
  },
  {
   "cell_type": "code",
   "execution_count": 21,
   "metadata": {},
   "outputs": [
    {
     "name": "stdout",
     "output_type": "stream",
     "text": [
      "False\n"
     ]
    }
   ],
   "source": [
    "def properly_nested(word):\n",
    "    s2 = Stack()\n",
    "\n",
    "    if word[0]==')' or word[0]==']' or word[0]=='}':\n",
    "        return False\n",
    "    \n",
    "    else:\n",
    "        for i in range(len(word)):\n",
    "            # print(s2.stack)\n",
    "            if word[i] == '(':\n",
    "                s2.push(word[i])\n",
    "            elif word[i] == '[':\n",
    "                s2.push(word[i])\n",
    "            elif word[i] == '{':\n",
    "                s2.push(word[i])\n",
    "\n",
    "            elif len(s2.stack)==0 or (s2.stack[len(s2.stack)-1] == '[' and word[i] != ']'):\n",
    "                return False\n",
    "            elif s2.stack[len(s2.stack)-1] == '(' and word[i] != ')':\n",
    "                return False\n",
    "            elif s2.stack[len(s2.stack)-1] == '{' and word[i] != '}':\n",
    "                return False\n",
    "            elif s2.stack[len(s2.stack)-1] == '(' and word[i] == ')':\n",
    "                s2.pop()\n",
    "            elif s2.stack[len(s2.stack)-1] == '[' and word[i] == ']':\n",
    "                s2.pop()\n",
    "            elif s2.stack[len(s2.stack)-1] == '{' and word[i] == '}':\n",
    "                s2.pop()\n",
    "    \n",
    "            \n",
    "    return s2.is_empty()\n",
    "\n",
    "print(properly_nested('{)({([)){}'))\n"
   ]
  },
  {
   "cell_type": "code",
   "execution_count": 22,
   "metadata": {},
   "outputs": [],
   "source": [
    "def test(func):\n",
    "    legals = ['(()[[]][])',\n",
    "    '[[]{}{{}}]',\n",
    "    '{[]{[][]}}',\n",
    "    '()((){[]})',\n",
    "    \n",
    "    '[[][()]]{}',\n",
    "    '(([]{[]}))',\n",
    "    '[]{[[]{}]}',\n",
    "    '{[[]]{}}()',\n",
    "    '{{}}[{()}]']\n",
    "    illegal = ['}}))[{)({]',\n",
    "    '{)({([)){}',\n",
    "    '{{}[((]}}]',\n",
    "    '[){{{{{)}(',\n",
    "    '{}[[}]}(]{',\n",
    "    '}[]]{[})[{',\n",
    "    '][[([}[)()',\n",
    "    '[)(]){]}(]',\n",
    "    '(]}}[)})]]',\n",
    "    '[)((])]{(}']\n",
    "    for s in legals:\n",
    "        assert func(s), s\n",
    "    for s in illegal:\n",
    "\n",
    "        assert not func(s),s\n",
    "\n",
    "test(properly_nested)"
   ]
  },
  {
   "cell_type": "code",
   "execution_count": null,
   "metadata": {},
   "outputs": [],
   "source": []
  }
 ],
 "metadata": {
  "kernelspec": {
   "display_name": "Python 3",
   "language": "python",
   "name": "python3"
  },
  "language_info": {
   "codemirror_mode": {
    "name": "ipython",
    "version": 3
   },
   "file_extension": ".py",
   "mimetype": "text/x-python",
   "name": "python",
   "nbconvert_exporter": "python",
   "pygments_lexer": "ipython3",
   "version": "3.10.6"
  },
  "orig_nbformat": 4
 },
 "nbformat": 4,
 "nbformat_minor": 2
}
