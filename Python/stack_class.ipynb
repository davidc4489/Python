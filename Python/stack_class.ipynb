{
 "cells": [
  {
   "cell_type": "code",
   "execution_count": 23,
   "metadata": {},
   "outputs": [],
   "source": [
    "class Stack:\n",
    "\n",
    "    def __init__(self):\n",
    "        \"\"\"\n",
    "        Initializes an empty stack.\n",
    "        \"\"\"\n",
    "        self.stack = []\n",
    "        self.top = -1\n",
    "\n",
    "s1 = Stack()\n"
   ]
  },
  {
   "cell_type": "code",
   "execution_count": 24,
   "metadata": {},
   "outputs": [
    {
     "data": {
      "text/plain": [
       "True"
      ]
     },
     "execution_count": 24,
     "metadata": {},
     "output_type": "execute_result"
    }
   ],
   "source": [
    "def is_empty(self):\n",
    "    \"\"\"\n",
    "    Checks if the stack is empty.\n",
    "    \"\"\"\n",
    "    return len(self.stack) == 0 and self.top == -1\n",
    "\n",
    "is_empty(s1)"
   ]
  },
  {
   "cell_type": "code",
   "execution_count": 25,
   "metadata": {},
   "outputs": [
    {
     "name": "stdout",
     "output_type": "stream",
     "text": [
      "[34, 76, 32, 123, 56787]\n",
      "4\n"
     ]
    }
   ],
   "source": [
    "def push(self, item):\n",
    "    \"\"\"\n",
    "    Pushes an item onto the top of the stack.\n",
    "    \"\"\"\n",
    "    self.stack.append(item)\n",
    "    self.top+=1\n",
    "\n",
    "push(s1,34)\n",
    "push(s1,76)\n",
    "push(s1,32)\n",
    "push(s1,123)\n",
    "push(s1,56787)\n",
    "print(s1.stack)\n",
    "print(s1.top)\n",
    "      \n",
    "    "
   ]
  },
  {
   "cell_type": "code",
   "execution_count": 26,
   "metadata": {},
   "outputs": [
    {
     "data": {
      "text/plain": [
       "5"
      ]
     },
     "execution_count": 26,
     "metadata": {},
     "output_type": "execute_result"
    }
   ],
   "source": [
    "arr = [8,7,56,5]\n",
    "arr.pop()"
   ]
  },
  {
   "cell_type": "code",
   "execution_count": 27,
   "metadata": {},
   "outputs": [
    {
     "data": {
      "text/plain": [
       "[8, 7, 56]"
      ]
     },
     "execution_count": 27,
     "metadata": {},
     "output_type": "execute_result"
    }
   ],
   "source": [
    "arr"
   ]
  },
  {
   "cell_type": "code",
   "execution_count": 28,
   "metadata": {},
   "outputs": [
    {
     "name": "stdout",
     "output_type": "stream",
     "text": [
      "56787\n",
      "[34, 76, 32, 123]\n"
     ]
    }
   ],
   "source": [
    "def pop(self):\n",
    "    \"\"\"\n",
    "    Removes and returns the item at the top of the stack.\n",
    "    \"\"\"\n",
    "    self.top -= 1\n",
    "    return self.stack.pop()\n",
    "\n",
    "print(pop(s1))\n",
    "print(s1.stack)\n"
   ]
  },
  {
   "cell_type": "code",
   "execution_count": 29,
   "metadata": {},
   "outputs": [
    {
     "name": "stdout",
     "output_type": "stream",
     "text": [
      "123\n"
     ]
    }
   ],
   "source": [
    "def top(self):\n",
    "    \"\"\"\n",
    "    Returns the item at the top of the stack without removing it.\n",
    "    \"\"\"\n",
    "    return self.stack[self.top]\n",
    "\n",
    "print(top(s1))"
   ]
  },
  {
   "cell_type": "code",
   "execution_count": 30,
   "metadata": {},
   "outputs": [
    {
     "name": "stdout",
     "output_type": "stream",
     "text": [
      "4\n"
     ]
    }
   ],
   "source": [
    "def size(self):\n",
    "    \"\"\"\n",
    "    Returns the number of items in the stack.\n",
    "    \"\"\" \n",
    "    return (self.top)+1\n",
    "\n",
    "print(size(s1))"
   ]
  },
  {
   "cell_type": "code",
   "execution_count": 31,
   "metadata": {},
   "outputs": [
    {
     "name": "stdout",
     "output_type": "stream",
     "text": [
      "False\n"
     ]
    }
   ],
   "source": [
    "def properly_nested(word):\n",
    "    s2 = Stack()\n",
    "\n",
    "    if word[0]==')' or word[0]==']' or word[0]=='}':\n",
    "        return False\n",
    "    \n",
    "    else:\n",
    "        for i in range(len(word)):\n",
    "            # print(s2.stack)\n",
    "            if word[i] == '(':\n",
    "                push(s2,word[i])\n",
    "            elif word[i] == '[':\n",
    "                push(s2,word[i])\n",
    "            elif word[i] == '{':\n",
    "                push(s2,word[i])\n",
    "\n",
    "            elif s2.top==-1 or (s2.stack[s2.top] == '[' and word[i] != ']'):\n",
    "                return False\n",
    "            elif s2.stack[s2.top] == '(' and word[i] != ')':\n",
    "                return False\n",
    "            elif s2.stack[s2.top] == '{' and word[i] != '}':\n",
    "                return False\n",
    "            elif s2.stack[s2.top] == '(' and word[i] == ')':\n",
    "                pop(s2)\n",
    "            elif s2.stack[s2.top] == '[' and word[i] == ']':\n",
    "                pop(s2)\n",
    "            elif s2.stack[s2.top] == '{' and word[i] == '}':\n",
    "                pop(s2)\n",
    "    \n",
    "            \n",
    "    return is_empty(s2)\n",
    "\n",
    "print(properly_nested('{)({([)){}'))\n"
   ]
  },
  {
   "cell_type": "code",
   "execution_count": 32,
   "metadata": {},
   "outputs": [],
   "source": [
    "def test(func):\n",
    "    legals = ['(()[[]][])',\n",
    "    '[[]{}{{}}]',\n",
    "    '{[]{[][]}}',\n",
    "    '()((){[]})',\n",
    "    \n",
    "    '[[][()]]{}',\n",
    "    '(([]{[]}))',\n",
    "    '[]{[[]{}]}',\n",
    "    '{[[]]{}}()',\n",
    "    '{{}}[{()}]']\n",
    "    illegal = ['}}))[{)({]',\n",
    "    '{)({([)){}',\n",
    "    '{{}[((]}}]',\n",
    "    '[){{{{{)}(',\n",
    "    '{}[[}]}(]{',\n",
    "    '}[]]{[})[{',\n",
    "    '][[([}[)()',\n",
    "    '[)(]){]}(]',\n",
    "    '(]}}[)})]]',\n",
    "    '[)((])]{(}']\n",
    "    for s in legals:\n",
    "        assert func(s), s\n",
    "    for s in illegal:\n",
    "\n",
    "        assert not func(s),s\n",
    "\n",
    "test(properly_nested)"
   ]
  },
  {
   "cell_type": "code",
   "execution_count": null,
   "metadata": {},
   "outputs": [],
   "source": []
  }
 ],
 "metadata": {
  "kernelspec": {
   "display_name": "Python 3",
   "language": "python",
   "name": "python3"
  },
  "language_info": {
   "codemirror_mode": {
    "name": "ipython",
    "version": 3
   },
   "file_extension": ".py",
   "mimetype": "text/x-python",
   "name": "python",
   "nbconvert_exporter": "python",
   "pygments_lexer": "ipython3",
   "version": "3.10.6"
  },
  "orig_nbformat": 4
 },
 "nbformat": 4,
 "nbformat_minor": 2
}
