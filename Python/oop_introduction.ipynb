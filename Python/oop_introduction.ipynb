{
 "cells": [
  {
   "attachments": {},
   "cell_type": "markdown",
   "metadata": {},
   "source": [
    "# Class\n",
    "\n",
    "* A class is a fundamental concept in object-oriented programming (OOP).\n",
    "<br> <br>\n",
    "* It serves as a blueprint or template for creating objects.\n",
    "<br> <br>\n",
    "* It encapsulates data and behavior into a single unit.\n",
    "<br> <br>\n",
    "* It defines the properties (attributes) and actions (methods) that objects of the class can have.\n",
    "<br> <br>\n",
    "* Objects are instances of a class, and each object can have its own unique state while sharing the same behavior defined by the class.\n",
    "\n"
   ]
  },
  {
   "cell_type": "code",
   "execution_count": 2,
   "metadata": {},
   "outputs": [],
   "source": [
    "class Point:\n",
    "    def __init__(self, x, y):\n",
    "        self.x = x\n",
    "        self.y = y"
   ]
  },
  {
   "cell_type": "code",
   "execution_count": 3,
   "metadata": {},
   "outputs": [
    {
     "data": {
      "text/plain": [
       "5"
      ]
     },
     "execution_count": 3,
     "metadata": {},
     "output_type": "execute_result"
    }
   ],
   "source": [
    "p1 = Point(5, 4)\n",
    "p1.x"
   ]
  },
  {
   "cell_type": "code",
   "execution_count": 4,
   "metadata": {},
   "outputs": [
    {
     "data": {
      "text/plain": [
       "(5, 27)"
      ]
     },
     "execution_count": 4,
     "metadata": {},
     "output_type": "execute_result"
    }
   ],
   "source": [
    "p1.y += 23\n",
    "p1.x,p1.y"
   ]
  },
  {
   "attachments": {},
   "cell_type": "markdown",
   "metadata": {},
   "source": [
    "## Attributes:\n",
    "\n",
    "* Attributes are variables associated with an object.\n",
    "<br>\n",
    "<br>\n",
    "* They store information or state specific to the object.\n",
    "<br>\n",
    "<br>\n",
    "* Attributes can be accessed and modified using dot notation (```object.attribute```).\n",
    "<br>\n",
    "<br>\n",
    "\n",
    "## Methods:\n",
    "\n",
    "* Methods are functions associated with an object.\n",
    "<br>\n",
    "<br>\n",
    "* They define the behavior or actions that the object can perform.\n",
    "<br>\n",
    "<br>\n",
    "* Methods are called using dot notation (```object.method()```).\n",
    "<br>\n",
    "<br>\n",
    "* Methods can access and modify the object's attributes."
   ]
  },
  {
   "cell_type": "code",
   "execution_count": 20,
   "metadata": {},
   "outputs": [],
   "source": [
    "class Point:\n",
    "    def __init__(self, x, y):\n",
    "        self.x = x\n",
    "        self.y = y\n",
    "\n",
    "    def distance_from_origin(self):\n",
    "        return (self.x ** 2 + self.y ** 2) ** 0.5\n",
    "\n",
    "    def translate(self, dx, dy):\n",
    "        self.x += dx\n",
    "        self.y += dy\n",
    "\n",
    "    def calculate_distance(self, other_point):\n",
    "        dx = self.x - other_point.x\n",
    "        dy = self.y - other_point.y\n",
    "        return (dx ** 2 + dy ** 2) ** 0.5\n",
    "    \n",
    "    def __str__(self):\n",
    "        return f\"({self.x}, {self.y})\"\n",
    "    \n",
    "    def __eq__(self, other_point):\n",
    "        return self.x == other_point.x and self.y == other_point.y\n",
    " "
   ]
  },
  {
   "cell_type": "code",
   "execution_count": 24,
   "metadata": {},
   "outputs": [
    {
     "name": "stdout",
     "output_type": "stream",
     "text": [
      "(3, 4)\n",
      "(3, 4)\n"
     ]
    }
   ],
   "source": [
    "   \n",
    "p1 = Point(3, 4)\n",
    "p2 = Point(3, 4)\n",
    "\n",
    "print(p1)  \n",
    "print(p2)  \n"
   ]
  },
  {
   "cell_type": "code",
   "execution_count": 22,
   "metadata": {},
   "outputs": [
    {
     "name": "stdout",
     "output_type": "stream",
     "text": [
      "(5, 3)\n"
     ]
    }
   ],
   "source": [
    "\n",
    "p1.translate(2, -1)\n",
    "print(p1)  \n"
   ]
  },
  {
   "cell_type": "code",
   "execution_count": 23,
   "metadata": {},
   "outputs": [
    {
     "name": "stdout",
     "output_type": "stream",
     "text": [
      "2.23606797749979\n"
     ]
    }
   ],
   "source": [
    "distance = p1.calculate_distance(p2)\n",
    "print(distance)  \n"
   ]
  },
  {
   "cell_type": "code",
   "execution_count": 25,
   "metadata": {},
   "outputs": [
    {
     "name": "stdout",
     "output_type": "stream",
     "text": [
      "True\n"
     ]
    }
   ],
   "source": [
    "print(p1 == p2)  "
   ]
  },
  {
   "attachments": {},
   "cell_type": "markdown",
   "metadata": {},
   "source": [
    "## Magic methods\n",
    "\n",
    "Magic methods in Python are special methods that provide a way to define behavior for specific operations on objects. \n",
    "<br><br>They are surrounded by double underscores (e.g., `__init__`, `__add__`) and allow customization of default behaviors. <br><br>They enable features such as operator overloading, object comparison, iteration, and more."
   ]
  },
  {
   "cell_type": "code",
   "execution_count": 12,
   "metadata": {},
   "outputs": [],
   "source": [
    "class Point:\n",
    "    def __init__(self, x, y):\n",
    "        self.x = x\n",
    "        self.y = y\n",
    "\n",
    "    def __str__(self):\n",
    "        # Returns a string representation of the object when str() or print() is called on it\n",
    "        pass\n",
    "\n",
    "    def __repr__(self):\n",
    "        # Returns a string representation of the object that can be used to recreate the object\n",
    "        pass\n",
    "\n",
    "    def __eq__(self, other):\n",
    "        # Checks if two objects are equal using the == operator\n",
    "        pass\n",
    "\n",
    "    def __ne__(self, other):\n",
    "        # Checks if two objects are not equal using the != operator\n",
    "        pass\n",
    "\n",
    "    def __lt__(self, other):\n",
    "        # Checks if the object is less than the other object using the < operator\n",
    "        pass\n",
    "\n",
    "    def __gt__(self, other):\n",
    "        # Checks if the object is greater than the other object using the > operator\n",
    "        pass\n",
    "\n",
    "    def __le__(self, other):\n",
    "        # Checks if the object is less than or equal to the other object using the <= operator\n",
    "        pass\n",
    "\n",
    "    def __ge__(self, other):\n",
    "        # Checks if the object is greater than or equal to the other object using the >= operator\n",
    "        pass\n",
    "\n",
    "    def __add__(self, other):\n",
    "        # Defines the behavior of the + operator for adding two Point objects\n",
    "        pass\n",
    "\n",
    "    def __sub__(self, other):\n",
    "        # Defines the behavior of the - operator for subtracting two Point objects\n",
    "        pass\n",
    "\n",
    "    def __mul__(self, other):\n",
    "        # Defines the behavior of the * operator for multiplying two Point objects\n",
    "        pass\n",
    "\n",
    "    def __len__(self):\n",
    "        # Returns the length of the object when len() is called on it\n",
    "        pass\n",
    "    \n",
    "    def __getitem__(self, index):\n",
    "        # Allows indexing to access the x and y coordinates\n",
    "        pass\n",
    "\n",
    "    def __setitem__(self, index, value):\n",
    "        # Allows assigning new values to the x and y coordinates\n",
    "        pass\n",
    "\n",
    "    def __contains__(self, item):\n",
    "        # Checks if a given item is present in the Point object\n",
    "        pass\n",
    "\n",
    "    def __iter__(self):\n",
    "        # Makes the Point object iterable, allowing it to be looped over\n",
    "        pass\n",
    "\n",
    "    def __next__(self):\n",
    "        # Defines the next iteration value when using the iterator\n",
    "        pass\n",
    "\n",
    "    def __hash__(self):\n",
    "        # Returns a hash value for the object, enabling it to be used in hash-based collections like dictionaries or sets\n",
    "        pass\n",
    "\n",
    "    def __call__(self, arg1, arg2):\n",
    "        # Allows the object to be called as a function\n",
    "        pass\n"
   ]
  },
  {
   "cell_type": "code",
   "execution_count": 14,
   "metadata": {},
   "outputs": [],
   "source": [
    "class Stack:\n",
    "\n",
    "    def init(self):\n",
    "        \"\"\"\n",
    "        Initializes an empty stack.\n",
    "        \"\"\"\n",
    "        \n",
    "    def is_empty(self):\n",
    "        \"\"\"\n",
    "        Checks if the stack is empty.\n",
    "        \"\"\"\n",
    "\n",
    "    def push(self, item):\n",
    "        \"\"\"\n",
    "        Pushes an item onto the top of the stack.\n",
    "        \"\"\"\n",
    "\n",
    "    def pop(self):\n",
    "        \"\"\"\n",
    "        Removes and returns the item at the top of the stack.\n",
    "        \"\"\"\n",
    "\n",
    "    def top(self):\n",
    "        \"\"\"\n",
    "        Returns the item at the top of the stack without removing it.\n",
    "        \"\"\"\n",
    "\n",
    "    def size(self):\n",
    "        \"\"\"\n",
    "        Returns the number of items in the stack.\n",
    "        \"\"\"\n",
    "\n"
   ]
  },
  {
   "cell_type": "code",
   "execution_count": null,
   "metadata": {},
   "outputs": [],
   "source": [
    "class Queue:\n",
    "    def __init__(self):\n",
    "        \"\"\"\n",
    "        Initializes an empty queue.\n",
    "        \"\"\"\n",
    "\n",
    "    def is_empty(self):\n",
    "        \"\"\"\n",
    "        Checks if the queue is empty.\n",
    "        \"\"\"\n",
    "\n",
    "    def enqueue(self, item):\n",
    "        \"\"\"\n",
    "        Adds an item to the rear of the queue.\n",
    "        \"\"\"\n",
    "\n",
    "    def dequeue(self):\n",
    "        \"\"\"\n",
    "        Removes and returns the item at the front of the queue.\n",
    "        \"\"\"\n",
    "\n",
    "    def front(self):\n",
    "        \"\"\"\n",
    "        Returns the item at the front of the queue without removing it.\n",
    "        \"\"\"\n",
    "\n",
    "    def size(self):\n",
    "        \"\"\"\n",
    "        Returns the number of items in the queue.\n",
    "        \"\"\""
   ]
  }
 ],
 "metadata": {
  "kernelspec": {
   "display_name": "Python 3",
   "language": "python",
   "name": "python3"
  },
  "language_info": {
   "codemirror_mode": {
    "name": "ipython",
    "version": 3
   },
   "file_extension": ".py",
   "mimetype": "text/x-python",
   "name": "python",
   "nbconvert_exporter": "python",
   "pygments_lexer": "ipython3",
   "version": "3.10.6"
  },
  "orig_nbformat": 4
 },
 "nbformat": 4,
 "nbformat_minor": 2
}
