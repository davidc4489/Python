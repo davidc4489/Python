{
 "cells": [
  {
   "cell_type": "code",
   "execution_count": 1,
   "metadata": {},
   "outputs": [
    {
     "name": "stdout",
     "output_type": "stream",
     "text": [
      "All test cases passed\n"
     ]
    }
   ],
   "source": [
    "import random\n",
    "\n",
    "def insertion_sort(arr):\n",
    "    for i in range(1,len(arr)):\n",
    "        j = i\n",
    "        while arr[j-1] > arr[j] and j > 0:\n",
    "            arr[j-1], arr[j] = arr[j], arr[j-1]\n",
    "            j -= 1\n",
    "    return arr\n",
    "\n",
    "#  Test function to verify sorting algorithms\n",
    "def test_sorting_algorithm(sort_func, n=10):\n",
    "    # Perform n random test cases\n",
    "    for _ in range(n):\n",
    "        length = random.randint(10, 100)\n",
    "        arr = [random.randint(100, 100_000) for _ in range(length)]\n",
    "        expected = sorted(arr)\n",
    "        # Verify that the sorted array matches the expected result\n",
    "        assert sort_func(arr) == expected\n",
    "\n",
    "    print(\"All test cases passed\")\n",
    "\n",
    "test_sorting_algorithm(insertion_sort, n=10)"
   ]
  }
 ],
 "metadata": {
  "kernelspec": {
   "display_name": "Python 3",
   "language": "python",
   "name": "python3"
  },
  "language_info": {
   "codemirror_mode": {
    "name": "ipython",
    "version": 3
   },
   "file_extension": ".py",
   "mimetype": "text/x-python",
   "name": "python",
   "nbconvert_exporter": "python",
   "pygments_lexer": "ipython3",
   "version": "3.10.6"
  },
  "orig_nbformat": 4
 },
 "nbformat": 4,
 "nbformat_minor": 2
}
