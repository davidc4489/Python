{
 "cells": [
  {
   "cell_type": "code",
   "execution_count": 119,
   "metadata": {},
   "outputs": [
    {
     "name": "stdout",
     "output_type": "stream",
     "text": [
      "<class 'int'>\n",
      "<class 'float'>\n",
      "<class 'float'>\n",
      "<class 'str'>\n",
      "<class 'str'>\n",
      "<class 'list'>\n",
      "<class 'tuple'>\n",
      "<class 'set'>\n",
      "2\n",
      "81\n"
     ]
    }
   ],
   "source": [
    "# One line comment\n",
    "\n",
    "\"\"\"\n",
    "Few lines comment\n",
    "Few lines comment\n",
    "\"\"\"\n",
    "\n",
    "# La fonction \"type\" permet de connaitre le type d'une variable\n",
    "a = 3\n",
    "b = 5.3\n",
    "c = \"Hello\"\n",
    "d = 'Hello'\n",
    "e = [3]\n",
    "f = (4,)\n",
    "g = {5}\n",
    "\n",
    "print(type(a))\n",
    "print(type(b))\n",
    "print(type(a+b))\n",
    "print(type(c))\n",
    "print(type(d))\n",
    "print(type(e))\n",
    "print(type(f))\n",
    "print(type(g))\n",
    "\n",
    "#  Division entière (//): Lorsque nous divisons des entiers avec //, le quotient est également un entier.\n",
    "print(5//2)\n",
    "\n",
    "# Exposant (**) : l'opérande gauche élevé à la puissance de droite. Par exemple, x**2\n",
    "print(3**4)\n"
   ]
  },
  {
   "cell_type": "code",
   "execution_count": 120,
   "metadata": {},
   "outputs": [
    {
     "name": "stdout",
     "output_type": "stream",
     "text": [
      "True\n",
      "True\n"
     ]
    }
   ],
   "source": [
    "# \"is\" et \"is not\" sont les opérateurs d'identité en Python. \n",
    "# Ils permettent de vérifier si deux valeurs (ou variables) sont situées sur la même emplacement mémoire.\n",
    "# Deux variables égales n'impliquent pas qu'elles sont identiques.\n",
    "x = 2\n",
    "y = 2\n",
    "z = 5\n",
    "print(x is y)\n",
    "print(x is not z)"
   ]
  },
  {
   "cell_type": "code",
   "execution_count": 121,
   "metadata": {},
   "outputs": [
    {
     "name": "stdout",
     "output_type": "stream",
     "text": [
      "True\n",
      "False\n",
      "False\n"
     ]
    }
   ],
   "source": [
    "# \"in\" et \"not in\" sont les opérateurs d'appartenance en Python. \n",
    "# Ils sont utilisés pour tester si une valeur ou une variable est trouvée dans une séquence (chaîne, liste, tuple, set et dictionnaire).\n",
    "# Dans un dictionnaire, nous pouvons uniquement tester la présence de la clé, pas la valeur.\n",
    "str0 = \"Hello\"\n",
    "liste = [1,2,3]\n",
    "print('H' in str0)\n",
    "print('h' in str0)\n",
    "print(1 not in liste)"
   ]
  },
  {
   "cell_type": "code",
   "execution_count": 122,
   "metadata": {},
   "outputs": [
    {
     "name": "stdout",
     "output_type": "stream",
     "text": [
      "hello you\n",
      "helloyou\n",
      "hello45you\n",
      "hello you45\n",
      "\n",
      "hello\n",
      "you\n"
     ]
    }
   ],
   "source": [
    "# Imprimer 2 string avec un espace entre\n",
    "str1 = \"hello\"\n",
    "str2 = \"you\"\n",
    "print(str1, str2)\n",
    "\n",
    "# Imprimer 2 string sans espace entre\n",
    "print(str1 + str2)\n",
    "\n",
    "# Ajout d'un caractere entre chaque string\n",
    "print(str1, str2, sep='45')\n",
    "\n",
    "# Ajout d'un caractere a la fin de l'impression\n",
    "print(str1, str2, end='45')\n",
    "print('\\n')\n",
    "\n",
    "# Saut de ligne\n",
    "print(str1 + '\\n' + str2)"
   ]
  },
  {
   "cell_type": "code",
   "execution_count": 123,
   "metadata": {},
   "outputs": [],
   "source": [
    "# La plupart des scripts élaborés nécessitent à un moment ou l'autre une intervention de l'utilisateur\n",
    "# (entrée d'un paramètre, clic de souris sur un bouton, etc.). \n",
    "# Dans un script simple en mode texte, la méthode la plus simple consiste à employer la fonction intégrée input().\n",
    "# Cette fonction provoque une interruption dans le programme courant. \n",
    "# L'utilisateur est invité à entrer des caractères au clavier et à terminer avec <Enter>.\n",
    "# Lorsque cette touche est enfoncée, l'exécution du programme se poursuit, \n",
    "# et la fonction fournit en retour une valeur correspondant à ce que l'utilisateur a entré. \n",
    "# Cette valeur peut alors être assignée à une variable quelconque.\n",
    "x = input(\"Enter a word\")\n",
    "print(x)"
   ]
  },
  {
   "cell_type": "code",
   "execution_count": null,
   "metadata": {},
   "outputs": [],
   "source": [
    "# Sous Python, l’instruction break vous donne la possibilité de quitter une boucle\n",
    "# au moment où une condition externe est déclenchée. \n",
    "# Vous intégrerez l’instruction break dans le bloc du code qui se trouve en dessous de votre instruction de boucle,\n",
    "# généralement après une instruction conditionnelle if.\n",
    "\n",
    "number = 0\n",
    "\n",
    "for number in range(10):\n",
    "    if number == 5:\n",
    "        break \n",
    "\n",
    "    print('Number is ' + str(number))\n",
    "\n",
    "print('Out of loop')"
   ]
  },
  {
   "cell_type": "code",
   "execution_count": null,
   "metadata": {},
   "outputs": [],
   "source": [
    "# L’instruction continue vous donne la possibilité de passer la partie d’une boucle \n",
    "# où une condition externe est déclenchée mais de tout de même passer à l’exécution du reste de la boucle.\n",
    "# C’est-à-dire que l’itération actuelle de la boucle sera interrompue, \n",
    "# mais le programme reviendra au haut de la boucle.\n",
    "# L’instruction continue se trouvera dans le bloc de code sous l’instruction de boucle, \n",
    "# généralement après une instruction conditionnelle if.\n",
    "\n",
    "number = 0\n",
    "\n",
    "for number in range(10):\n",
    "    if number == 5:\n",
    "        continue\n",
    "\n",
    "    print('Number is ' + str(number))\n",
    "\n",
    "print('Out of loop')"
   ]
  },
  {
   "cell_type": "code",
   "execution_count": null,
   "metadata": {},
   "outputs": [],
   "source": [
    "# On peut écrire une instruction else: après un corps de boucle\n",
    "# qui est exécuté une fois après la fin de la boucle:\n",
    "# Au premier coup d'œil, cette affirmation ne semble pas avoir de sens, \n",
    "# car le corps else: statement peut juste être placé après la fin de la boucle. \n",
    "# L'instruction \"else\" après une boucle n'a de sens que lorsqu'elle est utilisée en combinaison\n",
    "#  avec la break instruction. \n",
    "# Si pendant l'exécution de la boucle, l'interpréteur Python rencontre une break,\n",
    "# il arrête immédiatement l'exécution de la boucle et en sort. \n",
    "# Dans ce cas, la branche else: n'est pas exécutée. \n",
    "# Ainsi, break est utilisé pour annuler l'exécution de la boucle au milieu de toute itération.\n",
    "x = 0\n",
    "while x < 15:\n",
    "    print(x)\n",
    "    x += 1\n",
    "    if x == 10:\n",
    "        break\n",
    "else:\n",
    "    print(\"bye\")\n",
    "print(\"end\")"
   ]
  },
  {
   "cell_type": "code",
   "execution_count": null,
   "metadata": {},
   "outputs": [],
   "source": [
    "for x in 1,2,3:\n",
    "    print(x)\n",
    "\n",
    "for x in 1,2,3,5,6,7,3,8,9,2,4,12:\n",
    "    print(x)\n",
    "\n",
    "for x in 3,\"Hello\", 23, \"Bye\":\n",
    "    print(x)"
   ]
  },
  {
   "cell_type": "code",
   "execution_count": null,
   "metadata": {},
   "outputs": [],
   "source": [
    "for i in range(1,31,1):\n",
    "    print(i)\n",
    "\n",
    "for i in range(10,40,3):\n",
    "    print(i)\n",
    "\n",
    "for i in range(50,10,-5):\n",
    "    print(i)"
   ]
  },
  {
   "cell_type": "code",
   "execution_count": null,
   "metadata": {},
   "outputs": [],
   "source": [
    "# La variable est modifiee uniquement a l'interieur de la fonction\n",
    "def fonction(x):\n",
    "    x += 10\n",
    "    return x\n",
    "\n",
    "y = 10\n",
    "print(fonction(y))\n",
    "print(y)"
   ]
  },
  {
   "cell_type": "code",
   "execution_count": null,
   "metadata": {},
   "outputs": [],
   "source": [
    "# Il est possible d'enregistrer un ensemble de fonctions dans un dossier\n",
    "# et de les appeler a l'aide de \"import\" \n",
    "# Par exemple, le dossier \"fonctions\" : import fonctions, et apres fonctions.fonction1() "
   ]
  },
  {
   "cell_type": "code",
   "execution_count": null,
   "metadata": {},
   "outputs": [],
   "source": [
    "# Une fonction peut retourner plusieurs valeurs\n",
    "def valeurs():\n",
    "    x = 10\n",
    "    y = 20\n",
    "    z = 30\n",
    "    return (x,y,z)\n",
    "\n",
    "print(valeurs())\n",
    "print(type(valeurs()))"
   ]
  },
  {
   "cell_type": "code",
   "execution_count": null,
   "metadata": {},
   "outputs": [],
   "source": [
    "# Valeur d'une fonction par defaut\n",
    "def fonction_1(x = 5):\n",
    "    x += 10\n",
    "    return x\n",
    "\n",
    "print(fonction_1(2))\n",
    "print(fonction_1())"
   ]
  },
  {
   "cell_type": "code",
   "execution_count": null,
   "metadata": {},
   "outputs": [],
   "source": [
    "# Fonction avec un nombre de parametres variable\n",
    "def multiple(*parametres):\n",
    "    for i in parametres:\n",
    "        print(i)\n",
    "    print(type(parametres))\n",
    "\n",
    "multiple(2,\"hello\",33)"
   ]
  },
  {
   "cell_type": "code",
   "execution_count": null,
   "metadata": {},
   "outputs": [],
   "source": [
    "# Envoi d'un ensemble de parametres a une fonction\n",
    "x = (1,2,3,4,5)\n",
    "def to_print(a,b,c,d,e):\n",
    "    print(a,b,c,d,e)\n",
    "\n",
    "to_print(*x)"
   ]
  },
  {
   "cell_type": "code",
   "execution_count": null,
   "metadata": {},
   "outputs": [],
   "source": [
    "# Variable \"global\"\n",
    "def addition():\n",
    "    global x\n",
    "    x += 10\n",
    "    print(x)\n",
    "\n",
    "def soustraction():\n",
    "    x = 25\n",
    "    x -=10\n",
    "    print(x)\n",
    "\n",
    "x = 20\n",
    "print(\"x_avant_addition = \", x)\n",
    "addition()\n",
    "soustraction()\n",
    "print(\"x_apres_addition = \", x)"
   ]
  },
  {
   "cell_type": "code",
   "execution_count": null,
   "metadata": {},
   "outputs": [],
   "source": [
    "# Variable \"nonlocal\"\n",
    "def addition2():\n",
    "    def addition3():\n",
    "        nonlocal y\n",
    "        y += 50\n",
    "        print(y)\n",
    "        return y\n",
    "    y = 20\n",
    "    print(addition3())\n",
    "\n",
    "y = 100\n",
    "addition2()\n",
    "print(y)"
   ]
  },
  {
   "cell_type": "code",
   "execution_count": null,
   "metadata": {},
   "outputs": [
    {
     "name": "stdout",
     "output_type": "stream",
     "text": [
      "bc\n",
      "ab\n",
      "cba\n",
      "bc\n",
      "qrup\n",
      "piyrw\n"
     ]
    }
   ],
   "source": [
    "print(\"abc\"[1:])\n",
    "print(\"abc\"[:2])\n",
    "print(\"abc\"[::-1])\n",
    "print(\"abcde\"[1:3])\n",
    "print(\"qwertyuiop\"[::3])\n",
    "print(\"qwertyuiop\"[::-2])"
   ]
  },
  {
   "cell_type": "code",
   "execution_count": null,
   "metadata": {},
   "outputs": [
    {
     "name": "stdout",
     "output_type": "stream",
     "text": [
      "hello\n",
      "None\n"
     ]
    }
   ],
   "source": [
    "# Si la fonction ne retourne aucune valeur, la variable qui contient le resultat de la fonction a pour valeur \"None\"\n",
    "def word():\n",
    "    print(\"hello\")\n",
    "\n",
    "words = word()\n",
    "print(words)"
   ]
  },
  {
   "cell_type": "code",
   "execution_count": null,
   "metadata": {},
   "outputs": [
    {
     "name": "stdout",
     "output_type": "stream",
     "text": [
      "abcdabcdabcd\n",
      "abcdabcdabcd\n",
      "hello\n",
      "world\n",
      "hello\tworld\n",
      "hello\\nworld\n",
      "hello\\tworld\n"
     ]
    },
    {
     "data": {
      "text/plain": [
       "'c'"
      ]
     },
     "execution_count": 5,
     "metadata": {},
     "output_type": "execute_result"
    }
   ],
   "source": [
    "mystring = \"abcd\"\n",
    "print(3*mystring)\n",
    "print(mystring*3)\n",
    "print(\"hello\\nworld\")\n",
    "print(\"hello\\tworld\")\n",
    "print(r\"hello\\nworld\")\n",
    "print(r\"hello\\tworld\")\n",
    "mystring[2]"
   ]
  },
  {
   "cell_type": "code",
   "execution_count": null,
   "metadata": {},
   "outputs": [
    {
     "name": "stdout",
     "output_type": "stream",
     "text": [
      "Abcdefgh\n",
      "0\n",
      "1\n",
      "1\n",
      "4444444abcdefgh4444444\n",
      "True\n",
      "True\n",
      "2\n",
      "0\n",
      "9\n",
      "True\n",
      "False\n",
      "True\n",
      "ABCD%\n",
      "wefrggtr\n",
      "hellogoodbye\n",
      "['hello', 'and', 'goodbye']\n",
      "hello-and-goodbye\n"
     ]
    }
   ],
   "source": [
    "mystring = \"abcdefgh\"\n",
    "print(mystring.capitalize())\n",
    "print(mystring.count('s'))\n",
    "print(mystring.count('a'))\n",
    "print(mystring.count('ab'))\n",
    "print(mystring.center(22,'4'))\n",
    "print(mystring.startswith('a'))\n",
    "print(mystring.endswith('h'))\n",
    "print(mystring.find('c'))\n",
    "mystring = \"abcdaefgha\"\n",
    "print(mystring.find('a'))\n",
    "print(mystring.rfind('a'))\n",
    "print(mystring.isalpha())\n",
    "mystring = 'abcd%'\n",
    "print(mystring.isalpha())\n",
    "mystring2 = \"   \"\n",
    "print(mystring2.isspace())\n",
    "print(mystring.upper())\n",
    "print(\"WeFrGGtr\".lower())\n",
    "print(\"hello \".strip() + \"goodbye\")\n",
    "split_str = str.split(\"hello and goodbye\")\n",
    "print(split_str)\n",
    "join_str = \"-\".join(split_str)\n",
    "print(join_str)"
   ]
  },
  {
   "cell_type": "code",
   "execution_count": null,
   "metadata": {},
   "outputs": [
    {
     "name": "stdout",
     "output_type": "stream",
     "text": [
      "this is a placeholder\n",
      "this placeholder is a placeholder\n",
      "this placeholder is a not a placeholder\n",
      "this not a placeholder is a placeholder\n",
      "hello my name is a dan and i live in Paris\n",
      "this is a placeholder             with spaces\n",
      "hello and goodbye\n",
      "the word is this word\n"
     ]
    }
   ],
   "source": [
    "str_with_format = \"this is a {}\".format('placeholder')\n",
    "print(str_with_format)\n",
    "str_with_format = \"this {0} is a {0}\".format('placeholder')\n",
    "print(str_with_format)\n",
    "str_with_format = \"this {0} is a {1}\".format('placeholder','not a placeholder')\n",
    "print(str_with_format)\n",
    "str_with_format = \"this {1} is a {0}\".format('placeholder','not a placeholder')\n",
    "print(str_with_format)\n",
    "str_with_format = \"hello my name is a {name} and i live in {city}\".format(name = 'dan',city='Paris')\n",
    "print(str_with_format)\n",
    "str_with_format = \"this is a {:23} with spaces\".format('placeholder')\n",
    "print(str_with_format)\n",
    "word = \"goodbye\"\n",
    "second = f'hello and {word}'\n",
    "print(second)\n",
    "open_string = 'the word is {}'\n",
    "print(open_string.format('this word'))\n"
   ]
  },
  {
   "cell_type": "code",
   "execution_count": null,
   "metadata": {},
   "outputs": [
    {
     "name": "stdout",
     "output_type": "stream",
     "text": [
      "the num is 456.000\n",
      "the num is 6,783,787,345,685\n",
      "water/cup ratio: 22.23%\n"
     ]
    }
   ],
   "source": [
    "num = 456\n",
    "num_with_decimal = \"the num is {:.3f}\".format(num)\n",
    "print(num_with_decimal)\n",
    "num = 6783787345685\n",
    "num_with_comma = \"the num is {:,}\".format(num)\n",
    "print(num_with_comma)\n",
    "water = 6.67\n",
    "cup = 30\n",
    "print(f'water/cup ratio: {water/cup:.2%}')"
   ]
  },
  {
   "cell_type": "code",
   "execution_count": null,
   "metadata": {},
   "outputs": [
    {
     "name": "stdout",
     "output_type": "stream",
     "text": [
      "His name is dan and he lives in Paris\n"
     ]
    }
   ],
   "source": [
    "from string import Template\n",
    "string_template = Template('His name is $name and he lives in $city')\n",
    "print(string_template.substitute(name='dan', city='Paris'))"
   ]
  },
  {
   "cell_type": "code",
   "execution_count": 7,
   "metadata": {},
   "outputs": [
    {
     "name": "stdout",
     "output_type": "stream",
     "text": [
      "the num in string is 56\n",
      "324\n",
      "<class 'int'>\n"
     ]
    }
   ],
   "source": [
    "num = 56\n",
    "string = 'the num in string is ' + str(num)\n",
    "print(string)\n",
    "string = '324'\n",
    "num = int(string)\n",
    "print(num)\n",
    "print(type(num))"
   ]
  },
  {
   "cell_type": "code",
   "execution_count": 53,
   "metadata": {},
   "outputs": [
    {
     "name": "stdout",
     "output_type": "stream",
     "text": [
      "2023-06-04 11:06:19.607814\n",
      "<class 'datetime.datetime'>\n",
      "Sunday\n",
      "June\n",
      "2023\n",
      "Sun Jun  4 11:06:19 2023\n",
      "\n",
      "\n",
      "2023-06-04 11:06:19.608345\n",
      "1 day, 3:00:00\n",
      "2023-06-03 08:06:19.608345\n",
      "2023-06-05 14:06:19.608345\n",
      "\n",
      "\n",
      "0:00:03.485604\n"
     ]
    }
   ],
   "source": [
    "import datetime\n",
    "\n",
    "print(datetime.datetime.today())\n",
    "print(type(datetime.datetime.today()))\n",
    "\n",
    "x = datetime.datetime.today()\n",
    "print(x.strftime('%A'))\n",
    "print(x.strftime('%B'))\n",
    "print(x.strftime('%Y'))\n",
    "print(x.strftime('%c'))\n",
    "\n",
    "print('\\n')\n",
    "now = datetime.datetime.today()\n",
    "one_day_three_hours = datetime.timedelta(days = 1, hours = 3)\n",
    "print(now)\n",
    "print(one_day_three_hours)\n",
    "print(now - one_day_three_hours)\n",
    "print(now + one_day_three_hours)\n",
    "\n",
    "print('\\n')\n",
    "now1 = datetime.datetime.today()\n",
    "for i in range(100000000):\n",
    "    pass\n",
    "now2 = datetime.datetime.today()\n",
    "print(now2-now1)"
   ]
  },
  {
   "cell_type": "code",
   "execution_count": 59,
   "metadata": {},
   "outputs": [
    {
     "name": "stdout",
     "output_type": "stream",
     "text": [
      "Hello\n",
      "Bye\n"
     ]
    }
   ],
   "source": [
    "import time\n",
    "\n",
    "print('Hello')\n",
    "time.sleep(3)\n",
    "print('Bye')"
   ]
  },
  {
   "cell_type": "code",
   "execution_count": 138,
   "metadata": {},
   "outputs": [
    {
     "name": "stdout",
     "output_type": "stream",
     "text": [
      "0.5643819265436687\n",
      "25.323914898971378\n",
      "48\n",
      "mars\n",
      "['mars', 'janvier']\n",
      "['fevrier', 'avril', 'janvier', 'mars']\n"
     ]
    }
   ],
   "source": [
    "import random\n",
    "\n",
    "print(random.random())\n",
    "print(random.random()*100)\n",
    "print(random.randint(10,54))\n",
    "\n",
    "mylist = ['janvier','fevrier','mars','avril']\n",
    "print(random.choice(mylist))\n",
    "print(random.choices(mylist,k=2))\n",
    "random.shuffle(mylist)\n",
    "print(mylist)"
   ]
  },
  {
   "cell_type": "code",
   "execution_count": 142,
   "metadata": {},
   "outputs": [
    {
     "name": "stdout",
     "output_type": "stream",
     "text": [
      "18\n",
      "334\n",
      "X4mx06fsqWUmgvPOkxLdNMLUza4VGwc\n"
     ]
    }
   ],
   "source": [
    "import secrets\n",
    "\n",
    "print(secrets.SystemRandom().randint(10,45))\n",
    "print(secrets.randbelow(345))\n",
    "print(secrets.token_urlsafe(23))"
   ]
  },
  {
   "cell_type": "code",
   "execution_count": 146,
   "metadata": {},
   "outputs": [
    {
     "name": "stdout",
     "output_type": "stream",
     "text": [
      "34\n"
     ]
    }
   ],
   "source": [
    "x = 12\n",
    "y = 34\n",
    "del x\n",
    "print(y)\n"
   ]
  },
  {
   "cell_type": "code",
   "execution_count": null,
   "metadata": {},
   "outputs": [
    {
     "data": {
      "text/plain": [
       "788"
      ]
     },
     "execution_count": 143,
     "metadata": {},
     "output_type": "execute_result"
    }
   ],
   "source": [
    "# Retourner le maximum du tableau\n",
    "a = [121, 432, 564, 23, 1, 45, 788]\n",
    "max(a)"
   ]
  },
  {
   "cell_type": "code",
   "execution_count": null,
   "metadata": {},
   "outputs": [
    {
     "ename": "AssertionError",
     "evalue": "",
     "output_type": "error",
     "traceback": [
      "\u001b[0;31m---------------------------------------------------------------------------\u001b[0m",
      "\u001b[0;31mAssertionError\u001b[0m                            Traceback (most recent call last)",
      "Cell \u001b[0;32mIn[144], line 7\u001b[0m\n\u001b[1;32m      4\u001b[0m \u001b[39massert\u001b[39;00m x \u001b[39m==\u001b[39m \u001b[39m\"\u001b[39m\u001b[39mhello\u001b[39m\u001b[39m\"\u001b[39m\n\u001b[1;32m      6\u001b[0m \u001b[39m#if condition returns False, AssertionError is raised:\u001b[39;00m\n\u001b[0;32m----> 7\u001b[0m \u001b[39massert\u001b[39;00m x \u001b[39m==\u001b[39m \u001b[39m\"\u001b[39m\u001b[39mgoodbye\u001b[39m\u001b[39m\"\u001b[39m\n",
      "\u001b[0;31mAssertionError\u001b[0m: "
     ]
    }
   ],
   "source": [
    "x = \"hello\"\n",
    "\n",
    "#if condition returns True, then nothing happens:\n",
    "assert x == \"hello\"\n",
    "\n",
    "#if condition returns False, AssertionError is raised:\n",
    "assert x == \"goodbye\""
   ]
  },
  {
   "cell_type": "code",
   "execution_count": null,
   "metadata": {},
   "outputs": [
    {
     "name": "stdout",
     "output_type": "stream",
     "text": [
      "[1, 2, 3, 4]\n"
     ]
    }
   ],
   "source": [
    "a = [4,3,2,1]\n",
    "x = sorted(a)\n",
    "print(x)"
   ]
  },
  {
   "cell_type": "code",
   "execution_count": null,
   "metadata": {},
   "outputs": [
    {
     "data": {
      "text/plain": [
       "[24, 35, 28, 0, 40, 30, 32]"
      ]
     },
     "execution_count": 6,
     "metadata": {},
     "output_type": "execute_result"
    }
   ],
   "source": [
    "import random\n",
    "length = 7\n",
    "random.sample(range(length**2), length)"
   ]
  },
  {
   "cell_type": "code",
   "execution_count": null,
   "metadata": {},
   "outputs": [
    {
     "name": "stdout",
     "output_type": "stream",
     "text": [
      "[12, 32, 342]\n"
     ]
    }
   ],
   "source": [
    "a = []\n",
    "a.append(12)\n",
    "a.append(32)\n",
    "a.append(342)\n",
    "print(a)"
   ]
  },
  {
   "cell_type": "code",
   "execution_count": null,
   "metadata": {},
   "outputs": [],
   "source": [
    "arr = [8,7,56,5]\n",
    "arr.pop()"
   ]
  },
  {
   "cell_type": "code",
   "execution_count": null,
   "metadata": {},
   "outputs": [
    {
     "data": {
      "text/plain": [
       "3"
      ]
     },
     "execution_count": 7,
     "metadata": {},
     "output_type": "execute_result"
    }
   ],
   "source": [
    "a = [[1,3],[4,5]]\n",
    "a[0][1]"
   ]
  },
  {
   "cell_type": "code",
   "execution_count": 168,
   "metadata": {},
   "outputs": [
    {
     "name": "stdout",
     "output_type": "stream",
     "text": [
      "It is an animal. The name of the animal is cat and he eats milk. There are 1 animal(s)\n"
     ]
    }
   ],
   "source": [
    "class Animals:\n",
    "    Type = \"animal\"\n",
    "    Number = 0\n",
    "    def __init__(self,name,food):\n",
    "        Animals.Number += 1\n",
    "        self.name = name\n",
    "        self.food = food\n",
    "\n",
    "    def get_animal_details(self):\n",
    "        return f\"It is an {Animals.Type}. The name of the animal is {self.name} and he eats {self.food}. There are {Animals.Number} animal(s)\"\n",
    "\n",
    "animal1 = Animals(\"cat\",\"milk\")\n",
    "print(animal1.get_animal_details())\n"
   ]
  },
  {
   "cell_type": "code",
   "execution_count": 4,
   "metadata": {},
   "outputs": [
    {
     "name": "stdout",
     "output_type": "stream",
     "text": [
      "{'x': 43}\n",
      "{'x': 25}\n"
     ]
    }
   ],
   "source": [
    "d={'x':43}\n",
    "print(d)\n",
    "d['x']=25\n",
    "print(d)\n"
   ]
  },
  {
   "cell_type": "code",
   "execution_count": 3,
   "metadata": {},
   "outputs": [
    {
     "name": "stdout",
     "output_type": "stream",
     "text": [
      "[(1, 0), (1, 1), (1, 2), (1, 3), (1, 4), (2, 0), (2, 1), (2, 2), (2, 3), (2, 4)]\n"
     ]
    }
   ],
   "source": [
    "numdrops =  [(i,j) for i in range(1,3) for j in range(5)]\n",
    "print(numdrops)"
   ]
  },
  {
   "cell_type": "code",
   "execution_count": null,
   "metadata": {},
   "outputs": [],
   "source": [
    "def solvepuzzle(N,k):\n",
    "\n",
    "    numdrops =  [(i,j) for i in range(1,N+1) for j in range(k+1)]\n",
    "    print(numdrops)\n",
    "    drops = {count:np.inf for count in numdrops}\n",
    "\n",
    "    for i in range (0, N+1):\n",
    "        drops[i,1] = 1\n",
    "        drops[i,0] = 0\n",
    "    print(drops)\n",
    "\n",
    "    for i in range (0,k+1):\n",
    "        drops[1, i] = i\n",
    "\n",
    " \n",
    "\n",
    "    for i in range (2,N+1):\n",
    "        for j in range (2,k+1):\n",
    "\n",
    "            minimum = np.inf\n",
    "\n",
    "            for x in range (1,j):\n",
    "                minimum = min(minimum, 1 + max(drops[i-1,x-1],drops[i,j-x]))\n",
    "\n",
    "            drops[i,j] = minimum\n",
    "\n",
    "\n",
    "    return drops[N,k]"
   ]
  },
  {
   "cell_type": "code",
   "execution_count": 18,
   "metadata": {},
   "outputs": [
    {
     "name": "stdout",
     "output_type": "stream",
     "text": [
      "{8: 0, 7: 1, 2: 2, 1: 3, 0: 4, 9: 5, 6: 6, 45: 7, 32: 8, 12: 9}\n"
     ]
    }
   ],
   "source": [
    "data = [8, 7, 2, 1, 0, 9, 6,45,32,12]\n",
    "d = {}\n",
    "for i,j in enumerate(data):\n",
    "    d[j]=i\n",
    "print(d)\n",
    "if 3 in d:\n",
    "    print(\"true\")\n"
   ]
  },
  {
   "cell_type": "code",
   "execution_count": 10,
   "metadata": {},
   "outputs": [
    {
     "name": "stdout",
     "output_type": "stream",
     "text": [
      "ert fg ertyu\n",
      "FG\n",
      "0\n"
     ]
    }
   ],
   "source": [
    "x = \"fg\"\n",
    "print(\"ert \"+x+\" ertyu\")\n",
    "x = x.upper()\n",
    "print(x)\n",
    "print(x.find(\"F\"))"
   ]
  },
  {
   "cell_type": "code",
   "execution_count": 11,
   "metadata": {},
   "outputs": [
    {
     "name": "stdout",
     "output_type": "stream",
     "text": [
      "10\n"
     ]
    }
   ],
   "source": [
    "x = [1,2,3,4]\n",
    "print(sum(x))\n"
   ]
  },
  {
   "cell_type": "code",
   "execution_count": 1,
   "metadata": {},
   "outputs": [
    {
     "name": "stdout",
     "output_type": "stream",
     "text": [
      "of all fruits banana is my favorite\n"
     ]
    }
   ],
   "source": [
    "# Remove spaces at the beginning and at the end of the string:\n",
    "\n",
    "txt = \"     banana     \"\n",
    "x = txt.strip()\n",
    "print(\"of all fruits\", x, \"is my favorite\")"
   ]
  },
  {
   "cell_type": "code",
   "execution_count": null,
   "metadata": {},
   "outputs": [],
   "source": [
    "# Replace the word \"bananas\":\n",
    "\n",
    "txt = \"I like bananas\"\n",
    "x = txt.replace(\"bananas\", \"apples\")\n",
    "print(x)"
   ]
  },
  {
   "cell_type": "code",
   "execution_count": 4,
   "metadata": {},
   "outputs": [
    {
     "name": "stdout",
     "output_type": "stream",
     "text": [
      "['orange', 'banana']\n"
     ]
    }
   ],
   "source": [
    "# Add an element to the fruits list:\n",
    "\n",
    "fruits = ['apple', 'banana', 'cherry']\n",
    "fruits.append(\"orange\")\n",
    "\n",
    "# Remove all elements from the fruits list:\n",
    "\n",
    "fruits = ['apple', 'banana', 'cherry', 'orange']\n",
    "fruits.clear()\n",
    "\n",
    "# Copy the fruits list:\n",
    "\n",
    "fruits = ['apple', 'banana', 'cherry', 'orange']\n",
    "x = fruits.copy()\n",
    "\n",
    "# Return the number of times the value \"cherry\" appears in the fruits list:\n",
    "\n",
    "fruits = ['apple', 'banana', 'cherry']\n",
    "x = fruits.count(\"cherry\")\n",
    "\n",
    "# The index() method returns the position at the first occurrence of the specified value.\n",
    "# What is the position of the value \"cherry\":\n",
    "\n",
    "fruits = ['apple', 'banana', 'cherry']\n",
    "x = fruits.index(\"cherry\")\n",
    "\n",
    "# Add the elements of cars to the fruits list:\n",
    "\n",
    "fruits = ['apple', 'banana', 'cherry']\n",
    "cars = ['Ford', 'BMW', 'Volvo']\n",
    "fruits.extend(cars)\n",
    "\n",
    "# Insert the value \"orange\" as the second element of the fruit list:\n",
    "\n",
    "fruits = ['apple', 'banana', 'cherry']\n",
    "fruits.insert(1, \"orange\")\n",
    "\n",
    "# Use a range of indexes to print the third, fourth, and fifth item in the list.\n",
    "print(fruits[1:3])\n",
    "\n",
    "# Remove the second element of the fruit list:\n",
    "\n",
    "fruits = ['apple', 'banana', 'cherry']\n",
    "fruits.pop(1)\n",
    "\n",
    "# Remove the \"banana\" element of the fruit list:\n",
    "\n",
    "fruits = ['apple', 'banana', 'cherry']\n",
    "fruits.remove(\"banana\")\n",
    "\n",
    "# Reverse the order of the fruit list:\n",
    "\n",
    "fruits = ['apple', 'banana', 'cherry']\n",
    "fruits.reverse()\n",
    "\n",
    "# Sort the list alphabetically:\n",
    "\n",
    "cars = ['Ford', 'BMW', 'Volvo']\n",
    "cars.sort()"
   ]
  },
  {
   "cell_type": "code",
   "execution_count": 21,
   "metadata": {},
   "outputs": [
    {
     "name": "stdout",
     "output_type": "stream",
     "text": [
      "34 + 21 = 34+21 : 34\n",
      " \n"
     ]
    }
   ],
   "source": [
    "def returning():\n",
    "    return 34\n",
    "\n",
    "def printing():\n",
    "    return \"34 + 21 = 34+21 : \" + str(returning())\n",
    "\n",
    "print(printing())\n",
    "print(printing()[17])\n"
   ]
  }
 ],
 "metadata": {
  "kernelspec": {
   "display_name": "Python 3",
   "language": "python",
   "name": "python3"
  },
  "language_info": {
   "codemirror_mode": {
    "name": "ipython",
    "version": 3
   },
   "file_extension": ".py",
   "mimetype": "text/x-python",
   "name": "python",
   "nbconvert_exporter": "python",
   "pygments_lexer": "ipython3",
   "version": "3.10.6"
  },
  "orig_nbformat": 4
 },
 "nbformat": 4,
 "nbformat_minor": 2
}
