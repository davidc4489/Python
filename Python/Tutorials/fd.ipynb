{
 "cells": [
  {
   "cell_type": "code",
   "execution_count": 19,
   "metadata": {},
   "outputs": [
    {
     "name": "stdout",
     "output_type": "stream",
     "text": [
      "emma 25\n",
      "emma 20\n",
      "emma 20\n"
     ]
    },
    {
     "ename": "NameError",
     "evalue": "name 'name' is not defined",
     "output_type": "error",
     "traceback": [
      "\u001b[0;31m---------------------------------------------------------------------------\u001b[0m",
      "\u001b[0;31mNameError\u001b[0m                                 Traceback (most recent call last)",
      "Cell \u001b[0;32mIn[19], line 7\u001b[0m\n\u001b[1;32m      4\u001b[0m f(\u001b[39m'\u001b[39m\u001b[39memma\u001b[39m\u001b[39m'\u001b[39m,)\n\u001b[1;32m      5\u001b[0m f(\u001b[39m'\u001b[39m\u001b[39memma\u001b[39m\u001b[39m'\u001b[39m)\n\u001b[0;32m----> 7\u001b[0m \u001b[39mdef\u001b[39;00m \u001b[39mf\u001b[39m(name, age\u001b[39m=\u001b[39mname):\n\u001b[1;32m      8\u001b[0m     \u001b[39mprint\u001b[39m(name,age)\n\u001b[1;32m      9\u001b[0m f(\u001b[39m'\u001b[39m\u001b[39memma\u001b[39m\u001b[39m'\u001b[39m,\u001b[39m25\u001b[39m)\n",
      "\u001b[0;31mNameError\u001b[0m: name 'name' is not defined"
     ]
    }
   ],
   "source": [
    "def f(name, age=20):\n",
    "    print(name,age)\n",
    "f('emma',25)\n",
    "f('emma',)\n",
    "f('emma')\n",
    "\n",
    "def f(name, age=name):\n",
    "    print(name,age)\n",
    "f('emma',25)\n",
    "\n"
   ]
  },
  {
   "cell_type": "code",
   "execution_count": 20,
   "metadata": {},
   "outputs": [
    {
     "name": "stdout",
     "output_type": "stream",
     "text": [
      "20\n",
      "10\n",
      "30\n",
      "10\n",
      "[10, 20]\n",
      "[10]\n",
      "[10, 10, 20]\n",
      "[10, 10, 20]\n"
     ]
    }
   ],
   "source": [
    "a = 10\n",
    "b = a\n",
    "a = 20\n",
    "print(a)\n",
    "print(b)\n",
    "\n",
    "a = 10\n",
    "b = a\n",
    "a += 20\n",
    "print(a)\n",
    "print(b)\n",
    "\n",
    "a = [10]\n",
    "b = a\n",
    "a = [10,20]\n",
    "print(a)\n",
    "print(b)\n",
    "\n",
    "a = [10]\n",
    "b = a\n",
    "a += [10,20]\n",
    "print(a)\n",
    "print(b)\n"
   ]
  },
  {
   "cell_type": "code",
   "execution_count": 21,
   "metadata": {},
   "outputs": [
    {
     "name": "stdout",
     "output_type": "stream",
     "text": [
      "<class 'tuple'>\n",
      "<class 'list'>\n",
      "(1, 'we', 23.3)\n",
      "[2, 'we', 23.3]\n"
     ]
    }
   ],
   "source": [
    "T = 1,'we',23.3\n",
    "A = [1,'we',23.3]\n",
    "print(type(T))\n",
    "print(type(A))\n",
    "\n",
    "#T[0] = 2\n",
    "A[0] = 2\n",
    "print(T)\n",
    "print(A)"
   ]
  },
  {
   "cell_type": "code",
   "execution_count": 22,
   "metadata": {},
   "outputs": [
    {
     "name": "stdout",
     "output_type": "stream",
     "text": [
      "2\n",
      "1\n",
      "0\n",
      "-1\n",
      "-2\n",
      "-3\n",
      "-4\n",
      "2,1,0,-1,-2,-3,-4,"
     ]
    }
   ],
   "source": [
    "for num in range (2,-5,-1):\n",
    "    print(num)\n",
    "for num in range (2,-5,-1):\n",
    "    print(num, end=\",\")"
   ]
  },
  {
   "cell_type": "code",
   "execution_count": 23,
   "metadata": {},
   "outputs": [
    {
     "name": "stdout",
     "output_type": "stream",
     "text": [
      "10\n",
      "11\n",
      "12\n",
      "13\n"
     ]
    }
   ],
   "source": [
    "for num in range(10, 14):\n",
    "    for i in range(2, num):\n",
    "        if num%i == 1:\n",
    "            print(num)\n",
    "            break"
   ]
  },
  {
   "cell_type": "code",
   "execution_count": 24,
   "metadata": {},
   "outputs": [
    {
     "name": "stdout",
     "output_type": "stream",
     "text": [
      "100\n"
     ]
    }
   ],
   "source": [
    "x = 0\n",
    "while (x < 100):\n",
    "    x+=2\n",
    "print(x)"
   ]
  },
  {
   "cell_type": "code",
   "execution_count": 25,
   "metadata": {},
   "outputs": [
    {
     "name": "stdout",
     "output_type": "stream",
     "text": [
      "J, h, o, n, J, h, J, h, n, "
     ]
    }
   ],
   "source": [
    "for l in 'Jhon':\n",
    "    if l == 'o':\n",
    "        pass\n",
    "    print(l, end=\", \")\n",
    "\n",
    "for l in 'Jhon':\n",
    "    if l == 'o':\n",
    "        break\n",
    "    print(l, end=\", \")\n",
    "\n",
    "for l in 'Jhon':\n",
    "    if l == 'o':\n",
    "        continue\n",
    "    print(l, end=\", \")"
   ]
  },
  {
   "cell_type": "code",
   "execution_count": 26,
   "metadata": {},
   "outputs": [
    {
     "name": "stdout",
     "output_type": "stream",
     "text": [
      "True\n"
     ]
    }
   ],
   "source": [
    "a, b = 12, 5\n",
    "if a + b:\n",
    "    print('True')\n",
    "else:\n",
    "    print('False')"
   ]
  },
  {
   "cell_type": "code",
   "execution_count": 27,
   "metadata": {},
   "outputs": [
    {
     "name": "stdout",
     "output_type": "stream",
     "text": [
      "10 Chair\n",
      "10 Table\n",
      "20 Chair\n",
      "20 Table\n"
     ]
    }
   ],
   "source": [
    "numbers = [10, 20]\n",
    "items = [\"Chair\", \"Table\"]\n",
    "for x in numbers:\n",
    "    for y in items:\n",
    "        print(x, y)"
   ]
  },
  {
   "cell_type": "code",
   "execution_count": 28,
   "metadata": {},
   "outputs": [
    {
     "name": "stdout",
     "output_type": "stream",
     "text": [
      "3\n"
     ]
    }
   ],
   "source": [
    "x = 0\n",
    "a = 5\n",
    "b = 5\n",
    "if a > 0:\n",
    "    if b < 0:\n",
    "        x = x + 5\n",
    "    elif a > 5:\n",
    "        x = x + 4\n",
    "    else:\n",
    "        x = x + 3\n",
    "else:\n",
    "    x = x + 2\n",
    "print(x)"
   ]
  },
  {
   "cell_type": "code",
   "execution_count": 29,
   "metadata": {},
   "outputs": [
    {
     "name": "stdout",
     "output_type": "stream",
     "text": [
      "True\n",
      "True\n",
      "True\n",
      "False\n"
     ]
    }
   ],
   "source": [
    "from numbers import Number\n",
    "from decimal import Decimal\n",
    "from fractions import Fraction\n",
    "\n",
    "print(isinstance(2.0, Number))\n",
    "print(isinstance(Decimal('2.0'), Number))\n",
    "print(isinstance(Fraction(2, 1), Number))\n",
    "print(isinstance(\"2\", Number))"
   ]
  },
  {
   "cell_type": "code",
   "execution_count": 31,
   "metadata": {},
   "outputs": [
    {
     "name": "stdout",
     "output_type": "stream",
     "text": [
      "True\n",
      "True\n",
      "True\n"
     ]
    }
   ],
   "source": [
    "myString = \"pynative\"\n",
    "stringList = [\"abc\", \"pynative\", \"xyz\"]\n",
    "print(stringList[1] == myString)\n",
    "print(stringList[1] is myString)\n",
    "\n",
    "a = \"qwe\"\n",
    "b = \"qwe\"\n",
    "print(a is b)"
   ]
  },
  {
   "cell_type": "code",
   "execution_count": 32,
   "metadata": {},
   "outputs": [
    {
     "name": "stdout",
     "output_type": "stream",
     "text": [
      "Yna PYnat tive PYnativ PYnativ\n"
     ]
    }
   ],
   "source": [
    "str1 = \"PYnative\"\n",
    "print(str1[1:4], str1[:5], str1[4:], str1[0:-1], str1[:-1])"
   ]
  },
  {
   "cell_type": "code",
   "execution_count": 33,
   "metadata": {},
   "outputs": [
    {
     "name": "stdout",
     "output_type": "stream",
     "text": [
      "['Hello Dear', 'Hello Bye', 'Good Dear', 'Good Bye']\n"
     ]
    }
   ],
   "source": [
    "resList = [x+y for x in ['Hello ', 'Good '] for y in ['Dear', 'Bye']]\n",
    "print(resList)"
   ]
  },
  {
   "cell_type": "code",
   "execution_count": 34,
   "metadata": {},
   "outputs": [
    {
     "name": "stdout",
     "output_type": "stream",
     "text": [
      "10\n"
     ]
    }
   ],
   "source": [
    "l = [None] * 10\n",
    "print(len(l))"
   ]
  },
  {
   "cell_type": "code",
   "execution_count": 38,
   "metadata": {},
   "outputs": [
    {
     "name": "stdout",
     "output_type": "stream",
     "text": [
      "True\n"
     ]
    }
   ],
   "source": [
    "sampleSet = {\"Yellow\", \"Orange\", \"Black\"}\n",
    "print(\"Orange\" in sampleSet)\n",
    "\n",
    "sampleSet = {\"Yellow\", \"Orange\", \"Black\"}\n",
    "# print(sampleSet[1])"
   ]
  },
  {
   "cell_type": "code",
   "execution_count": 39,
   "metadata": {},
   "outputs": [
    {
     "name": "stdout",
     "output_type": "stream",
     "text": [
      "{'Pink', 'Blue'}\n"
     ]
    }
   ],
   "source": [
    "set1 = {\"Yellow\", \"Orange\", \"Black\"}\n",
    "set2 = {\"Orange\", \"Blue\", \"Pink\"}\n",
    "set3 = set2.difference(set1)\n",
    "print(set3)"
   ]
  },
  {
   "cell_type": "code",
   "execution_count": 41,
   "metadata": {},
   "outputs": [
    {
     "name": "stdout",
     "output_type": "stream",
     "text": [
      "(100,)\n",
      "(100, 100)\n",
      "100\n",
      "200\n"
     ]
    }
   ],
   "source": [
    "aTuple = (100,)\n",
    "print(aTuple)\n",
    "print(aTuple * 2)\n",
    "\n",
    "aTuple = (100)\n",
    "print(aTuple)\n",
    "print(aTuple * 2)"
   ]
  },
  {
   "cell_type": "code",
   "execution_count": 42,
   "metadata": {},
   "outputs": [
    {
     "name": "stdout",
     "output_type": "stream",
     "text": [
      "a\n",
      "b\n",
      "c\n",
      "\n",
      "abc"
     ]
    }
   ],
   "source": [
    "print('a')\n",
    "print('b')\n",
    "print('c')\n",
    "print('')\n",
    "print('a', end='')\n",
    "print('b', end='')\n",
    "print('c', end='')"
   ]
  },
  {
   "cell_type": "code",
   "execution_count": 1,
   "metadata": {},
   "outputs": [
    {
     "data": {
      "text/plain": [
       "5.1"
      ]
     },
     "execution_count": 1,
     "metadata": {},
     "output_type": "execute_result"
    }
   ],
   "source": [
    "new_iris=[5.1,3.5,1.4,0.3]\n",
    "new_iris[0]\n"
   ]
  },
  {
   "cell_type": "code",
   "execution_count": 16,
   "metadata": {},
   "outputs": [
    {
     "name": "stdout",
     "output_type": "stream",
     "text": [
      "{'time': 4, 'data': 3}\n"
     ]
    }
   ],
   "source": [
    "a = {}\n",
    "a['time']=1\n",
    "for i in range(3):\n",
    "    if 'time' in a:\n",
    "        a['time']+=1\n",
    "    if 'data' in a:\n",
    "        a['data']+=1\n",
    "    if 'data' not in a:\n",
    "        a['data']=1\n",
    "print(a)"
   ]
  },
  {
   "cell_type": "code",
   "execution_count": 1,
   "metadata": {},
   "outputs": [
    {
     "name": "stdout",
     "output_type": "stream",
     "text": [
      "{0, 1, 2, 3, 4, 5, 6, 7, 8, 9}\n"
     ]
    }
   ],
   "source": [
    "b = set()\n",
    "for i in range(10):\n",
    "    b.add(i)\n",
    "print(b)"
   ]
  },
  {
   "cell_type": "code",
   "execution_count": 5,
   "metadata": {},
   "outputs": [
    {
     "data": {
      "text/plain": [
       "[3, 3, 3, 3, 3, 3, 3, 3, 3, 3]"
      ]
     },
     "execution_count": 5,
     "metadata": {},
     "output_type": "execute_result"
    }
   ],
   "source": [
    "def num():\n",
    "    a = []\n",
    "    for i in range(10):\n",
    "      a.append(3)\n",
    "    return a\n",
    "num()"
   ]
  },
  {
   "cell_type": "code",
   "execution_count": 9,
   "metadata": {},
   "outputs": [
    {
     "data": {
      "text/plain": [
       "-1000.0000000000001"
      ]
     },
     "execution_count": 9,
     "metadata": {},
     "output_type": "execute_result"
    }
   ],
   "source": [
    "0.00004/-0.00000004"
   ]
  },
  {
   "cell_type": "code",
   "execution_count": 23,
   "metadata": {},
   "outputs": [
    {
     "name": "stdout",
     "output_type": "stream",
     "text": [
      "23.0\n"
     ]
    }
   ],
   "source": [
    "import numpy as np \n",
    "arr = np.array([])\n",
    "arr = np.append(arr,23)\n",
    "print(arr[0])"
   ]
  },
  {
   "cell_type": "code",
   "execution_count": 33,
   "metadata": {},
   "outputs": [
    {
     "data": {
      "text/plain": [
       "array([1, 2, 3, 4, 1, 2, 3, 4, 1, 2, 3, 4, 1, 2, 3, 4, 1, 2, 3, 4, 1, 2,\n",
       "       3, 4, 1, 2, 3, 4, 1, 2, 3, 4, 1, 2, 3, 4, 1, 2, 3, 4, 1, 2, 3, 4,\n",
       "       1, 2, 3, 4, 1, 2, 3, 4, 1, 2, 3, 4, 1, 2, 3, 4, 1, 2, 3, 4, 1, 2,\n",
       "       3, 4, 1, 2, 3, 4, 1, 2, 3, 4, 1, 2, 3, 4, 1, 2, 3, 4, 1, 2, 3, 4,\n",
       "       1, 2, 3, 4, 1, 2, 3, 4, 1, 2, 3, 4, 1, 2, 3, 4, 1, 2, 3, 4, 1, 2,\n",
       "       3, 4, 1, 2, 3, 4, 1, 2, 3, 4, 1, 2, 3, 4, 1, 2, 3, 4, 1, 2, 3, 4,\n",
       "       1, 2, 3, 4, 1, 2, 3, 4, 1, 2, 3, 4, 1, 2, 3, 4, 1, 2, 3, 4, 1, 2,\n",
       "       3, 4, 1, 2, 3, 4, 1, 2, 3, 4, 1, 2, 3, 4, 1, 2, 3, 4, 1, 2, 3, 4,\n",
       "       1, 2, 3, 4, 1, 2, 3, 4, 1, 2, 3, 4, 1, 2, 3, 4, 1, 2, 3, 4, 1, 2,\n",
       "       3, 4, 1, 2, 3, 4, 1, 2, 3, 4, 1, 2, 3, 4, 1, 2, 3, 4, 1, 2, 3, 4,\n",
       "       1, 2, 3, 4, 1, 2, 3, 4, 1, 2, 3, 4, 1, 2, 3, 4, 1, 2, 3, 4, 1, 2,\n",
       "       3, 4, 1, 2, 3, 4, 1, 2, 3, 4, 1, 2, 3, 4, 1, 2, 3, 4, 1, 2, 3, 4,\n",
       "       1, 2, 3, 4, 1, 2, 3, 4, 1, 2, 3, 4, 1, 2, 3, 4, 1, 2, 3, 4, 1, 2,\n",
       "       3, 4, 1, 2, 3, 4, 1, 2, 3, 4, 1, 2, 3, 4, 1, 2, 3, 4, 1, 2, 3, 4,\n",
       "       1, 2, 3, 4, 1, 2, 3, 4, 1, 2, 3, 4, 1, 2, 3, 4, 1, 2, 3, 4, 1, 2,\n",
       "       3, 4, 1, 2, 3, 4, 1, 2, 3, 4, 1, 2, 3, 4, 1, 2, 3, 4, 1, 2, 3, 4,\n",
       "       1, 2, 3, 4, 1, 2, 3, 4, 1, 2, 3, 4, 1, 2, 3, 4, 1, 2, 3, 4, 1, 2,\n",
       "       3, 4, 1, 2, 3, 4, 1, 2, 3, 4, 1, 2, 3, 4, 1, 2, 3, 4, 1, 2, 3, 4,\n",
       "       1, 2, 3, 4, 1, 2, 3, 4, 1, 2, 3, 4, 1, 2, 3, 4, 1, 2, 3, 4, 1, 2,\n",
       "       3, 4, 1, 2, 3, 4, 1, 2, 3, 4, 1, 2, 3, 4, 1, 2, 3, 4, 1, 2, 3, 4,\n",
       "       1, 2, 3, 4, 1, 2, 3, 4, 1, 2, 3, 4, 1, 2, 3, 4, 1, 2, 3, 4, 1, 2,\n",
       "       3, 4, 1, 2, 3, 4, 1, 2, 3, 4, 1, 2, 3, 4, 1, 2, 3, 4, 1, 2, 3, 4,\n",
       "       1, 2, 3, 4, 1, 2, 3, 4, 1, 2, 3, 4, 1, 2, 3, 4, 1, 2, 3, 4, 1, 2,\n",
       "       3, 4, 1, 2, 3, 4, 1, 2, 3, 4, 1, 2, 3, 4, 1, 2, 3, 4, 1, 2, 3, 4,\n",
       "       1, 2, 3, 4, 1, 2, 3, 4, 1, 2, 3, 4, 1, 2, 3, 4, 1, 2, 3, 4, 1, 2,\n",
       "       3, 4, 1, 2, 3, 4, 1, 2, 3, 4, 1, 2, 3, 4, 1, 2, 3, 4, 1, 2, 3, 4,\n",
       "       1, 2, 3, 4, 1, 2, 3, 4, 1, 2, 3, 4, 1, 2, 3, 4, 1, 2, 3, 4, 1, 2,\n",
       "       3, 4, 1, 2, 3, 4, 1, 2, 3, 4, 1, 2, 3, 4, 1, 2, 3, 4, 1, 2, 3, 4,\n",
       "       1, 2, 3, 4, 1, 2, 3, 4, 1, 2, 3, 4, 1, 2, 3, 4, 1, 2, 3, 4, 1, 2,\n",
       "       3, 4, 1, 2, 3, 4, 1, 2, 3, 4, 1, 2, 3, 4, 1, 2, 3, 4, 1, 2, 3, 4,\n",
       "       1, 2, 3, 4, 1, 2, 3, 4, 1, 2, 3, 4, 1, 2, 3, 4, 1, 2, 3, 4, 1, 2,\n",
       "       3, 4, 1, 2, 3, 4, 1, 2, 3, 4, 1, 2, 3, 4, 1, 2, 3, 4, 1, 2, 3, 4,\n",
       "       1, 2, 3, 4, 1, 2, 3, 4, 1, 2, 3, 4, 1, 2, 3, 4, 1, 2, 3, 4, 1, 2,\n",
       "       3, 4, 1, 2, 3, 4, 1, 2, 3, 4, 1, 2, 3, 4, 1, 2, 3, 4, 1, 2, 3, 4,\n",
       "       1, 2, 3, 4, 1, 2, 3, 4, 1, 2, 3, 4, 1, 2, 3, 4, 1, 2, 3, 4, 1, 2,\n",
       "       3, 4, 1, 2, 3, 4, 1, 2, 3, 4, 1, 2, 3, 4, 1, 2, 3, 4, 1, 2, 3, 4,\n",
       "       1, 2, 3, 4, 1, 2, 3, 4])"
      ]
     },
     "execution_count": 33,
     "metadata": {},
     "output_type": "execute_result"
    }
   ],
   "source": [
    "arr = [1,2,3,4]*200\n",
    "arr2 = np.array(arr)\n",
    "arr2"
   ]
  },
  {
   "cell_type": "code",
   "execution_count": 37,
   "metadata": {},
   "outputs": [
    {
     "data": {
      "text/plain": [
       "4"
      ]
     },
     "execution_count": 37,
     "metadata": {},
     "output_type": "execute_result"
    }
   ],
   "source": [
    "arr = []\n",
    "arr.append(2)\n",
    "arr.append(3)\n",
    "arr.append(4)\n",
    "arr.append(1)\n",
    "\n",
    "arr\n",
    "max(arr)"
   ]
  },
  {
   "cell_type": "code",
   "execution_count": 38,
   "metadata": {},
   "outputs": [
    {
     "data": {
      "text/plain": [
       "12"
      ]
     },
     "execution_count": 38,
     "metadata": {},
     "output_type": "execute_result"
    }
   ],
   "source": [
    "a =4\n",
    "b =6\n",
    "c=12\n",
    "d =1\n",
    "max(a,b,c,d)"
   ]
  },
  {
   "cell_type": "code",
   "execution_count": 39,
   "metadata": {},
   "outputs": [
    {
     "name": "stdout",
     "output_type": "stream",
     "text": [
      "[[7 7 7]\n",
      " [9 9 4]\n",
      " [4 5 4]]\n",
      "[0 2 3]\n",
      "[[ 0 14 21]\n",
      " [ 0 18 12]\n",
      " [ 0 10 12]]\n",
      "[35 30 22]\n",
      "[46 44 26]\n",
      "[11 14  4]\n",
      "[[ 77  79  80]\n",
      " [ 99 101  47]\n",
      " [ 44  57  47]]\n"
     ]
    },
    {
     "data": {
      "text/plain": [
       "' m = m + (error * xi) * learning_rate\\nb = b + error * learning_rate\\nc = c + (error * wi) * learning_rate '"
      ]
     },
     "execution_count": 39,
     "metadata": {},
     "output_type": "execute_result"
    }
   ],
   "source": [
    "import numpy as np\n",
    "x = np.random.randint(2,10, size=3)\n",
    "y = np.random.randint(2,10, size=3)\n",
    "w = np.random.randint(2,10, size=3)\n",
    "z = x.copy()\n",
    "z = (-6*x)+60 + (4*y) + (-2*w)\n",
    "\n",
    "arr = np.array([x,y,w])\n",
    "\n",
    "print(arr)\n",
    "\n",
    "coef = np.array([0,2,3])\n",
    "print(coef)\n",
    "sum = x.copy()\n",
    "sum = arr*coef\n",
    "sum2 = x.copy()\n",
    "sum2 = np.sum(sum, axis=1)\n",
    "print(sum)\n",
    "print(sum2)\n",
    "\n",
    "error = np.array(z - sum2)\n",
    "print(z)\n",
    "print(error)\n",
    "coef = coef + (error[0]*arr)\n",
    "print(coef)\n",
    "\"\"\" m = m + (error * xi) * learning_rate\n",
    "b = b + error * learning_rate\n",
    "c = c + (error * wi) * learning_rate \"\"\"\n"
   ]
  },
  {
   "cell_type": "code",
   "execution_count": 40,
   "metadata": {},
   "outputs": [
    {
     "name": "stdout",
     "output_type": "stream",
     "text": [
      "[2 3 2]\n",
      "[9 9 2]\n",
      "[5 2 6]\n"
     ]
    }
   ],
   "source": [
    "x = np.random.randint(2,10, size=3)\n",
    "y = np.random.randint(2,10, size=3)\n",
    "w = np.random.randint(2,10, size=3)\n",
    "\n",
    "print(x)\n",
    "print(y)\n",
    "print(w)"
   ]
  },
  {
   "cell_type": "code",
   "execution_count": 3,
   "metadata": {},
   "outputs": [
    {
     "name": "stdout",
     "output_type": "stream",
     "text": [
      "[[-0.35955316]\n",
      " [ 0.97663904]\n",
      " [ 0.40234164]\n",
      " [-0.81314628]\n",
      " [-0.88778575]\n",
      " [ 0.44386323]\n",
      " [-0.97727788]\n",
      " [ 0.42833187]\n",
      " [ 0.20827498]\n",
      " [-0.31155253]\n",
      " [-0.51080514]\n",
      " [ 0.12691209]\n",
      " [-1.53624369]\n",
      " [-0.40178094]\n",
      " [ 0.6536186 ]\n",
      " [ 1.17877957]\n",
      " [-0.17992484]\n",
      " [ 1.78587049]\n",
      " [ 1.45427351]\n",
      " [-0.68481009]\n",
      " [ 0.97873798]\n",
      " [ 1.89588918]\n",
      " [-0.4380743 ]\n",
      " [ 0.3130677 ]\n",
      " [ 0.76103773]\n",
      " [ 0.77749036]\n",
      " [ 1.9507754 ]\n",
      " [ 0.33367433]\n",
      " [-0.34791215]\n",
      " [ 1.53277921]\n",
      " [-0.89546656]\n",
      " [-0.57884966]\n",
      " [-1.04855297]\n",
      " [ 0.37816252]\n",
      " [ 0.01050002]\n",
      " [ 0.46278226]\n",
      " [ 0.14404357]\n",
      " [-0.40317695]\n",
      " [ 0.0519454 ]\n",
      " [-1.25279536]\n",
      " [ 1.05445173]\n",
      " [ 0.40015721]\n",
      " [-1.70627019]\n",
      " [ 2.2408932 ]\n",
      " [ 0.17742614]\n",
      " [-0.20515826]\n",
      " [ 1.23029068]\n",
      " [-0.85409574]\n",
      " [ 1.76405235]\n",
      " [ 0.4105985 ]\n",
      " [-0.90729836]\n",
      " [-1.42001794]\n",
      " [ 0.46566244]\n",
      " [ 0.90082649]\n",
      " [ 1.13940068]\n",
      " [ 0.40198936]\n",
      " [ 0.3869025 ]\n",
      " [-1.7262826 ]\n",
      " [ 1.46935877]\n",
      " [-0.18718385]\n",
      " [-0.87079715]\n",
      " [ 0.3024719 ]\n",
      " [ 1.20237985]\n",
      " [-1.98079647]\n",
      " [-2.55298982]\n",
      " [-1.45436567]\n",
      " [-0.02818223]\n",
      " [ 0.15494743]\n",
      " [ 1.22244507]\n",
      " [ 1.86755799]\n",
      " [ 2.26975462]\n",
      " [-0.74216502]\n",
      " [ 0.06651722]\n",
      " [ 1.49407907]\n",
      " [-0.67246045]\n",
      " [-1.63019835]\n",
      " [ 0.12898291]\n",
      " [ 0.95008842]\n",
      " [ 1.48825219]\n",
      " [ 0.05616534]\n",
      " [ 0.8644362 ]\n",
      " [ 0.70657317]\n",
      " [-0.15135721]\n",
      " [-1.07075262]\n",
      " [-0.10321885]\n",
      " [-0.30230275]\n",
      " [-0.38732682]\n",
      " [ 0.72909056]\n",
      " [ 0.12167502]\n",
      " [-0.50965218]\n",
      " [-1.23482582]\n",
      " [-0.21274028]\n",
      " [-0.63432209]\n",
      " [ 0.15634897]\n",
      " [ 0.04575852]\n",
      " [-1.16514984]\n",
      " [-0.36274117]\n",
      " [ 0.3563664 ]\n",
      " [-1.61389785]\n",
      " [-1.18063218]]\n",
      "[-1.99558856e+01  2.13397727e+01  1.15568946e+01 -1.63420692e+01\n",
      " -3.57006385e+01  2.79953955e+01 -5.63235304e+01  1.76104141e+01\n",
      "  2.14510620e+01 -2.23528647e+01 -2.74674636e+01  9.30231368e+00\n",
      " -7.64902562e+01 -2.83346523e+01  3.06916745e+01  6.04429895e+01\n",
      " -5.12662959e+00  7.38599937e+01  8.02758700e+01 -2.38147640e+01\n",
      "  5.17924631e+01  7.74719877e+01  2.65538141e-01  1.41668399e+01\n",
      "  4.51707474e+01  5.57976548e+01  8.68235998e+01  1.25549501e+01\n",
      "  2.65610251e+00  6.85718935e+01 -4.67284355e+01 -2.19181505e+01\n",
      " -5.10544891e+01  3.04769664e+01 -2.17385589e+01  3.07746441e+01\n",
      "  2.13476276e+01 -1.30570016e+01 -1.54726047e+01 -4.59581256e+01\n",
      "  3.43710384e+01  1.74943144e+01 -7.03446971e+01  8.22114997e+01\n",
      "  1.40323901e+01 -2.86035248e+01  6.55860358e+01 -3.50527403e+01\n",
      "  7.23595134e+01 -2.71575115e-02 -2.50617691e+01 -7.19900873e+01\n",
      "  7.31494988e-01  2.33229469e+01  4.44522164e+01  1.94548702e+01\n",
      "  1.88182737e-01 -9.61107344e+01  6.63609945e+01 -5.06000547e+00\n",
      " -3.58256813e+01  6.50867191e+00  4.27812673e+01 -8.81657065e+01\n",
      " -1.14067914e+02 -6.11450392e+01 -1.67547548e+01 -1.28396319e+01\n",
      "  4.49733589e+01  8.75345859e+01  9.57472146e+01 -2.71052094e+01\n",
      " -1.52934219e+01  5.36866622e+01 -2.65475822e+01 -7.68702465e+01\n",
      "  1.63600962e+01  2.95678272e+01  4.54599317e+01  1.09629742e+01\n",
      "  3.88621637e+01  2.69874564e+01 -8.50663786e+00 -4.49153458e+01\n",
      "  1.67073962e+00 -2.57238393e+01 -1.55899433e+01  3.51469962e+01\n",
      "  1.81642197e+01 -9.62864522e+00 -4.60167017e+01 -2.90606708e+00\n",
      " -3.61676540e+01  2.98606223e+00 -7.41580670e+00 -4.84421213e+01\n",
      " -4.67748283e-01  1.17844657e+01 -5.27648493e+01 -5.54200307e+01]\n"
     ]
    },
    {
     "data": {
      "image/png": "[encoded data removed]",
      "text/plain": [
       "<Figure size 640x480 with 1 Axes>"
      ]
     },
     "metadata": {},
     "output_type": "display_data"
    }
   ],
   "source": [
    "import numpy as np\n",
    "import matplotlib.pyplot as plt\n",
    "from sklearn.datasets import make_regression\n",
    "from sklearn.linear_model import SGDRegressor\n",
    "\n",
    "np.random.seed(0)\n",
    "x, y = make_regression(n_samples=100, n_features=1, noise=10)\n",
    "plt.scatter(x, y)\n",
    "print(x)\n",
    "print(y)"
   ]
  }
 ],
 "metadata": {
  "kernelspec": {
   "display_name": "Python 3",
   "language": "python",
   "name": "python3"
  },
  "language_info": {
   "codemirror_mode": {
    "name": "ipython",
    "version": 3
   },
   "file_extension": ".py",
   "mimetype": "text/x-python",
   "name": "python",
   "nbconvert_exporter": "python",
   "pygments_lexer": "ipython3",
   "version": "3.10.6"
  },
  "orig_nbformat": 4
 },
 "nbformat": 4,
 "nbformat_minor": 2
}
