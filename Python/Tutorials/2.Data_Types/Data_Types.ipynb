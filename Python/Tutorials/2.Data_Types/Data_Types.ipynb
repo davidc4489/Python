{
 "cells": [
  {
   "cell_type": "code",
   "execution_count": null,
   "metadata": {},
   "outputs": [],
   "source": [
    "\"\"\"\n",
    "Text Type:\t            str\n",
    "Numeric Types:\t        int, float, complex\n",
    "Sequence Types:\t        list, tuple, range\n",
    "Mapping Type:\t        dict\n",
    "Set Types:\t            set, frozenset\n",
    "Boolean Type:\t        bool\n",
    "Binary Types:       \tbytes, bytearray, memoryview\n",
    "None Type:\t            NoneType\n",
    "\"\"\"\n",
    "\n",
    "\"\"\"\n",
    "x = \"Hello World\"\t                            str\t\n",
    "x = 20\t                                        int\t\n",
    "x = 20.5\t                                    float\t\n",
    "x = 1j\t                                        complex\t\n",
    "x = [\"apple\", \"banana\", \"cherry\"]\t            list\t\n",
    "x = (\"apple\", \"banana\", \"cherry\")\t            tuple\t\n",
    "x = range(6)\t                                range\t\n",
    "x = {\"name\" : \"John\", \"age\" : 36}\t            dict\t\n",
    "x = {\"apple\", \"banana\", \"cherry\"}\t            set\t\n",
    "x = frozenset({\"apple\", \"banana\", \"cherry\"})\tfrozenset\t\n",
    "x = True\t                                    bool\t\n",
    "x = b\"Hello\"\t                                bytes\t\n",
    "x = bytearray(5)\t                            bytearray\t\n",
    "x = memoryview(bytes(5))\t                    memoryview\t\n",
    "x = None\t                                    NoneType\n",
    "\"\"\""
   ]
  }
 ],
 "metadata": {
  "language_info": {
   "name": "python"
  },
  "orig_nbformat": 4
 },
 "nbformat": 4,
 "nbformat_minor": 2
}
