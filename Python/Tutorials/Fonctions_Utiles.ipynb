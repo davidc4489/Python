{
 "cells": [
  {
   "cell_type": "code",
   "execution_count": null,
   "metadata": {},
   "outputs": [],
   "source": [
    "# Inverser 2 valeurs\n",
    "def swap_values(x,y):\n",
    "    helper = y\n",
    "    y = x\n",
    "    x = helper\n",
    "    return (x,y)\n",
    "\n",
    "print(swap_values(10,20))\n",
    "\n",
    "a = 20\n",
    "b = 40\n",
    "a, b = b, a\n",
    "print(a,b)"
   ]
  },
  {
   "cell_type": "code",
   "execution_count": null,
   "metadata": {},
   "outputs": [],
   "source": [
    "# retourne le maximum\n",
    "def max(*args):\n",
    "    max = args[0]\n",
    "    for i in args:\n",
    "        if i > max:\n",
    "            max = i\n",
    "    return max\n",
    "\n",
    "print(max(10,23,5,76,123))\n",
    "liste = (12,43,21,345,32)\n",
    "print(max(*liste))"
   ]
  },
  {
   "cell_type": "code",
   "execution_count": null,
   "metadata": {},
   "outputs": [],
   "source": [
    "# Verifie si les 2 strings sont des anagrammes\n",
    "def is_anagram(str1, str2):\n",
    "    return sorted(str1)==sorted(str2)\n",
    "\n",
    "print(is_anagram(\"qwerty\", \"qwreyt\"))"
   ]
  },
  {
   "cell_type": "code",
   "execution_count": null,
   "metadata": {},
   "outputs": [],
   "source": [
    "# Verifie si le string est un palyndrome\n",
    "def is_palyndrome(mystring):\n",
    "    return mystring == mystring[::-1]\n",
    "\n",
    "is_palyndrome(\"qwertrewq\")"
   ]
  },
  {
   "cell_type": "code",
   "execution_count": null,
   "metadata": {},
   "outputs": [],
   "source": [
    "# Fait un tableau a partir de 2 autres tableaux\n",
    "a = [1,2,3]\n",
    "b = [3,4,5]\n",
    "x = list(zip(a,b))\n",
    "print(x)"
   ]
  },
  {
   "cell_type": "code",
   "execution_count": null,
   "metadata": {},
   "outputs": [],
   "source": [
    "# Inverse le string\n",
    "def inverse(word):\n",
    "    return word if word==\"\" else inverse(word[1:]) +word[0]\n",
    "\n",
    "inverse(\"python\")"
   ]
  },
  {
   "cell_type": "code",
   "execution_count": 10,
   "metadata": {},
   "outputs": [
    {
     "data": {
      "text/plain": [
       "120"
      ]
     },
     "execution_count": 10,
     "metadata": {},
     "output_type": "execute_result"
    }
   ],
   "source": [
    "# Retourne la factorielle d'un nombre\n",
    "def factorielle(number):\n",
    "    return 1 if number < 1 else number*factorielle(number-1)\n",
    "\n",
    "factorielle(5)"
   ]
  },
  {
   "cell_type": "code",
   "execution_count": 3,
   "metadata": {},
   "outputs": [
    {
     "name": "stdout",
     "output_type": "stream",
     "text": [
      "144\n",
      "2\n",
      "3\n",
      "5\n",
      "8\n",
      "13\n",
      "21\n",
      "34\n"
     ]
    }
   ],
   "source": [
    "# Retourne la valeur d'un nombre dans la serie de Fibonnacci\n",
    "def fibonnacci(number):\n",
    "    if number == 0:\n",
    "        return 0\n",
    "    elif number == 1:\n",
    "        return 1\n",
    "    else:\n",
    "        return fibonnacci(number-1)+fibonnacci(number-2)\n",
    "    \n",
    "print(fibonnacci(12))\n",
    "\n",
    "for i in range(3,10):\n",
    "    print(fibonnacci(i))"
   ]
  }
 ],
 "metadata": {
  "kernelspec": {
   "display_name": "Python 3",
   "language": "python",
   "name": "python3"
  },
  "language_info": {
   "codemirror_mode": {
    "name": "ipython",
    "version": 3
   },
   "file_extension": ".py",
   "mimetype": "text/x-python",
   "name": "python",
   "nbconvert_exporter": "python",
   "pygments_lexer": "ipython3",
   "version": "3.10.6"
  },
  "orig_nbformat": 4
 },
 "nbformat": 4,
 "nbformat_minor": 2
}
