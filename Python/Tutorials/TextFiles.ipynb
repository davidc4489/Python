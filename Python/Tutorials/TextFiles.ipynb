{
 "cells": [
  {
   "cell_type": "code",
   "execution_count": null,
   "metadata": {},
   "outputs": [],
   "source": [
    "\"\"\" \n",
    "1 Read Only ('r') : Open text file for reading. The handle is positioned at the beginning of the file. \n",
    "    If the file does not exists, raises the I/O error. \n",
    "    This is also the default mode in which a file is opened.\n",
    "2 Read and Write ('r+'): Open the file for reading and writing. \n",
    "    The handle is positioned at the beginning of the file. \n",
    "    Raises I/O error if the file does not exist.\n",
    "3 Write Only ('w') : Open the file for writing. \n",
    "    For the existing files, the data is truncated and over-written. \n",
    "    The handle is positioned at the beginning of the file. \n",
    "    Creates the file if the file does not exist.\n",
    "4 Write and Read ('w+') : Open the file for reading and writing. \n",
    "    For an existing file, data is truncated and over-written. \n",
    "    The handle is positioned at the beginning of the file.\n",
    "5 Append Only ('a'): Open the file for writing. \n",
    "    The file is created if it does not exist. \n",
    "    The handle is positioned at the end of the file. \n",
    "    The data being written will be inserted at the end, after the existing data.\n",
    "6 Append and Read ('a+') : Open the file for reading and writing. \n",
    "    The file is created if it does not exist. \n",
    "    The handle is positioned at the end of the file. \n",
    "    The data being written will be inserted at the end, after the existing data. \n",
    "    \"\"\"\n",
    "\n",
    "File_object = open(r\"File_Name\",\"Access_Mode\")\n",
    "\"\"\" The file should exist in the same directory as the python program file else, \n",
    "    the full address of the file should be written in place of the filename. \n",
    "    Note: The r is placed before the filename to prevent the characters in the filename string \n",
    "    to be treated as special characters. \n",
    "    For example, if there is \\temp in the file address, then \\t is treated as the tab character, \n",
    "    and an error is raised of invalid address. \n",
    "    The r makes the string raw, that is, it tells that the string is without any special characters. \n",
    "    The r can be ignored if the file is in the same directory and the address is not being placed. \"\"\""
   ]
  }
 ],
 "metadata": {
  "language_info": {
   "name": "python"
  },
  "orig_nbformat": 4
 },
 "nbformat": 4,
 "nbformat_minor": 2
}
