{
 "cells": [
  {
   "cell_type": "code",
   "execution_count": 2,
   "metadata": {},
   "outputs": [
    {
     "name": "stdout",
     "output_type": "stream",
     "text": [
      "All test cases passed\n"
     ]
    }
   ],
   "source": [
    "import random\n",
    "\n",
    "def Quick_Sort(arr):\n",
    "    beginning = 0\n",
    "    end = len(arr)-1\n",
    "    quick_sort(arr,beginning, end) \n",
    "    return arr\n",
    "\n",
    "def quick_sort(arr, low, high):\n",
    "    if low < high:\n",
    "        j = partition(arr, low, high)\n",
    "\n",
    "        quick_sort(arr,low, j-1)\n",
    "        quick_sort(arr,j+1, high)\n",
    "    \n",
    "    return arr\n",
    "   \n",
    "def partition(arr, low, high):\n",
    "    \n",
    "    pivot_value = arr[high]\n",
    "    j = low-1\n",
    "\n",
    "    for i in range(low,high+1):\n",
    "        if arr[i]>pivot_value:\n",
    "            pass\n",
    "        if arr[i]<=pivot_value:\n",
    "            j+=1\n",
    "            if arr[i]<arr[j]:\n",
    "                arr[i],arr[j]=arr[j],arr[i]\n",
    "\n",
    "    return j\n",
    "\n",
    "\"\"\" a = [2,4,1,56,32,65,3,25,54,23,76,53,102,45,265,21]\n",
    "quick_sort(a,0,len(a)-1) \"\"\"\n",
    "\n",
    "#  Test function to verify sorting algorithms\n",
    "def test_sorting_algorithm(sort_func, n=10):\n",
    "    # Perform n random test cases\n",
    "    for _ in range(n):\n",
    "        length = random.randint(10, 100)\n",
    "        arr = [random.randint(100, 100_000) for _ in range(length)]\n",
    "        expected = sorted(arr)\n",
    "        # Verify that the sorted array matches the expected result\n",
    "        assert sort_func(arr) == expected\n",
    "\n",
    "    print(\"All test cases passed\")\n",
    "\n",
    "test_sorting_algorithm(Quick_Sort, n=10)"
   ]
  }
 ],
 "metadata": {
  "kernelspec": {
   "display_name": "Python 3",
   "language": "python",
   "name": "python3"
  },
  "language_info": {
   "codemirror_mode": {
    "name": "ipython",
    "version": 3
   },
   "file_extension": ".py",
   "mimetype": "text/x-python",
   "name": "python",
   "nbconvert_exporter": "python",
   "pygments_lexer": "ipython3",
   "version": "3.10.6"
  },
  "orig_nbformat": 4
 },
 "nbformat": 4,
 "nbformat_minor": 2
}
