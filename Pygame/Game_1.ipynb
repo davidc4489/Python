{
 "cells": [
  {
   "cell_type": "code",
   "execution_count": 2,
   "metadata": {},
   "outputs": [],
   "source": [
    "import pygame\n",
    "\n",
    "class Game:\n",
    "    def __init__(self, screen):\n",
    "        self.screen = screen\n",
    "        self.running = True\n",
    "\n",
    "    def run(self):\n",
    "        while self.running:\n",
    "            for event in pygame.event.get():\n",
    "                if event.type == pygame.QUIT:\n",
    "                    self.running = False\n",
    "\n",
    "pygame.init()\n",
    "screen = pygame.display.set_mode((400,400))\n",
    "game = Game(screen)\n",
    "game.run()\n",
    "\n",
    "pygame.quit()\n"
   ]
  },
  {
   "cell_type": "code",
   "execution_count": 3,
   "metadata": {},
   "outputs": [],
   "source": [
    "class Player:\n",
    "    def __init__(self,x,y):\n",
    "        self.image = pygame.image.load(\"vaisseau.jpeg\")\n",
    "        self.rect = self.image.get_rect(x=x, y=y)           # donne la position en x et y du joueur recuperes comme parametres\n",
    "        self.speed = 5                                      # vitesse du joueur\n",
    "        self.velocity = [0,0]                               # velocite du joueur en x et en y                 \n",
    "\n",
    "    def move(self):                                         # methode pour deplacer le joueur\n",
    "        self.rect.move_ip(self.velocity[0]*self.speed, self.velocity[1]*self.speed)\n",
    "\n",
    "    def draw(self, screen):                                 # methode pour afficher le joueur || recuperation de la surface d'affichage en argument\n",
    "        screen.blit(self.image, self.rect)                  # image du joueur en surface et son rect pour les coordonnees"
   ]
  },
  {
   "cell_type": "code",
   "execution_count": 4,
   "metadata": {},
   "outputs": [],
   "source": [
    "import pygame\n",
    "\n",
    "class Game:\n",
    "    def __init__(self, screen):\n",
    "        self.screen = screen\n",
    "        self.running = True\n",
    "        self.clock = pygame.time.Clock()\n",
    "        self.player = Player(0,0)            # instanciation du joueur comme attribut de la scene\n",
    "        self.area = pygame.Rect(300,300,300,300)\n",
    "        self.area_color = \"red\"\n",
    "\n",
    "    # Separation de la fonction run en 3 fonctions\n",
    "\n",
    "    def handling_events(self):               # fonction pour gerer les evenements\n",
    "        for event in pygame.event.get():\n",
    "            if event.type == pygame.QUIT:\n",
    "                self.running = False\n",
    "\n",
    "            pressed = pygame.key.get_pressed()\n",
    "\n",
    "            if pressed[pygame.K_LEFT]:\n",
    "                self.player.velocity[0] = -1\n",
    "            if pressed[pygame.K_RIGHT]:\n",
    "                self.player.velocity[0] = +1\n",
    "            if pressed[pygame.K_UP]:\n",
    "                self.player.velocity[1] = -1\n",
    "            if pressed[pygame.K_DOWN]:\n",
    "                self.player.velocity[1] = +1 \n",
    "\n",
    "\n",
    "    def update(self):                        # fonction pour la gestion de la logique et de la mise a jour des elements\n",
    "        self.player.move()\n",
    "\n",
    "        if self.area.colliderect(self.player.rect):\n",
    "            self.area_color = \"blue\"\n",
    "        else:\n",
    "            self.area_color = \"red\"\n",
    "    \n",
    "    def display(self):                       # fonction pour l'affichage\n",
    "        self.screen.fill(\"white\")            # mise a zero de la surface d'affichage avec une couleur arbitraire\n",
    "        pygame.draw.rect(self.screen, self.area_color,self.area)\n",
    "        self.player.draw(self.screen)\n",
    "        pygame.display.flip()                # mise a jour de la surface d'affichage\n",
    "    \n",
    "    def run(self):\n",
    "        while self.running:\n",
    "            self.handling_events()\n",
    "            self.update()\n",
    "            self.display()\n",
    "            self.clock.tick(60)\n",
    "            \n",
    "\n",
    "pygame.init()\n",
    "pygame.display.set_caption(\"Game\")              # Titre de la fenetre\n",
    "screen = pygame.display.set_mode((900,900))\n",
    "game = Game(screen)\n",
    "game.run()\n",
    "\n",
    "pygame.quit()"
   ]
  },
  {
   "cell_type": "code",
   "execution_count": 5,
   "metadata": {},
   "outputs": [
    {
     "data": {
      "text/plain": [
       "' class Player:\\n    def __init__(self,x,y):\\n        self.image = pygame.image.load(\"vaisseau.jpeg\")\\n        self.rect = self.image.get_rect(x=x, y=y)           # donne la position en x et y du joueur recuperes comme parametres\\n        self.speed = 5                                      # vitesse du joueur\\n        self.velocity = [0,0]                               # velocite du joueur en x et en y                 \\n\\n    def move(self):                                         # methode pour deplacer le joueur\\n        self.rect.move_ip(self.velocity[0]*self.speed, self.velocity[1]*self.speed)\\n\\n    def draw(self, screen):                                 # methode pour afficher le joueur || recuperation de la surface d\\'affichage en argument\\n        screen.blit(self.image, self.rect)                  # image du joueur en surface et son rect pour les coordonnees\\n '"
      ]
     },
     "execution_count": 5,
     "metadata": {},
     "output_type": "execute_result"
    }
   ],
   "source": [
    "\"\"\" class Player:\n",
    "    def __init__(self,x,y):\n",
    "        self.image = pygame.image.load(\"vaisseau.jpeg\")\n",
    "        self.rect = self.image.get_rect(x=x, y=y)           # donne la position en x et y du joueur recuperes comme parametres\n",
    "        self.speed = 5                                      # vitesse du joueur\n",
    "        self.velocity = [0,0]                               # velocite du joueur en x et en y                 \n",
    "\n",
    "    def move(self):                                         # methode pour deplacer le joueur\n",
    "        self.rect.move_ip(self.velocity[0]*self.speed, self.velocity[1]*self.speed)\n",
    "\n",
    "    def draw(self, screen):                                 # methode pour afficher le joueur || recuperation de la surface d'affichage en argument\n",
    "        screen.blit(self.image, self.rect)                  # image du joueur en surface et son rect pour les coordonnees\n",
    " \"\"\""
   ]
  }
 ],
 "metadata": {
  "kernelspec": {
   "display_name": "Python 3",
   "language": "python",
   "name": "python3"
  },
  "language_info": {
   "codemirror_mode": {
    "name": "ipython",
    "version": 3
   },
   "file_extension": ".py",
   "mimetype": "text/x-python",
   "name": "python",
   "nbconvert_exporter": "python",
   "pygments_lexer": "ipython3",
   "version": "3.10.6"
  },
  "orig_nbformat": 4
 },
 "nbformat": 4,
 "nbformat_minor": 2
}
