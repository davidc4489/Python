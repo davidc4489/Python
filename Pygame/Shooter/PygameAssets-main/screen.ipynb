{
 "cells": [
  {
   "cell_type": "code",
   "execution_count": 24,
   "metadata": {},
   "outputs": [],
   "source": [
    "import pygame\n",
    "\n",
    "screen = pygame.display.set_mode((1080,720))\n",
    "\n",
    "background = pygame.image.load(\"alien.png\")\n",
    "background = pygame.transform.scale(background,(200,200))\n",
    "screen.blit(background,(0,0))\n",
    "\n",
    "pygame.display.flip()\n",
    "\n"
   ]
  }
 ],
 "metadata": {
  "kernelspec": {
   "display_name": "Python 3",
   "language": "python",
   "name": "python3"
  },
  "language_info": {
   "codemirror_mode": {
    "name": "ipython",
    "version": 3
   },
   "file_extension": ".py",
   "mimetype": "text/x-python",
   "name": "python",
   "nbconvert_exporter": "python",
   "pygments_lexer": "ipython3",
   "version": "3.10.6"
  },
  "orig_nbformat": 4
 },
 "nbformat": 4,
 "nbformat_minor": 2
}
